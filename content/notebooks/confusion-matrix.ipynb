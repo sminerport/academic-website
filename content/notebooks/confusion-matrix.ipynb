{
 "cells": [
  {
   "cell_type": "markdown",
   "metadata": {},
   "source": [
    "# Confusion Matrices\n",
    "\n",
    "---\n"
   ]
  },
  {
   "cell_type": "markdown",
   "metadata": {},
   "source": [
    "# Overview\n",
    "\n",
    "---\n",
    "\n",
    "In the [last post](https://scottminer.netlify.app/post/cross-validation/), we discussed using stratified *k*-fold cross-validation to evaluate the accuracy of an `SGDClassifier` that classifies images from the MNIST dataset as either fives or non-fives.\n",
    "\n",
    "Confusion matrices are often better at evaluating classifiers than accuracy metrics are, especially when dealing with unbalanced datasets. Consider building a classifier that aims to predict the prevalence of a rare disease. If only 5% of the people have the disease, a classifier that always predicts healthy individuals will achieve an accuracy score of 95%. However, the classifier is relatively useless since it never predicts any instances of the disease.\n",
    "\n",
    " Confusion matrices provide additional metrics to investigate a classifier's performance. Before diving deeper into confusion matrices, let's look at baseline classifiers.\n",
    "\n",
    "# Baseline Classifiers\n",
    "\n",
    "---\n",
    "\n",
    "In `sklearn` , baseline methods are known as dummy methods and represent the most basic estimators. Baseline methods make predictions based on simple statistics or random guesses.\n",
    "\n",
    "`sklearn` provides four baseline classification methods. Two use _random_ strategies to make predictions, and two use _constant_ techniques.\n",
    "\n",
    "## Random Strategies\n",
    "\n",
    "---\n",
    "\n",
    "* The `uniform` strategy chooses evenly amongst target classes based on the *number* of categories.\n",
    "* The `stratified` technique chooses evenly amongst target classes based on the *frequency* of the groups.\n",
    "\n",
    "The two random methods behave differently on unbalanced datasets. The `uniform` strategy picks evenly amongst classes despite the distribution of classes, whereas the `stratified` technique considers this distribution.\n",
    "\n",
    "## Constant Strategies\n",
    "\n",
    "---\n",
    "\n",
    "* The `constant` strategy returns a user-defined pre-determined target class.\n",
    "* The `most_frequent` technique returns the single most likely category (also available under the name `prior`).\n",
    "\n",
    "Let's import the needed classes for this tutorial so we can take a look at a simple example of a Dummy Classifier."
   ]
  },
  {
   "cell_type": "markdown",
   "metadata": {},
   "source": [
    "# Imports\n",
    "\n",
    "---\n"
   ]
  },
  {
   "cell_type": "code",
   "execution_count": 177,
   "metadata": {},
   "outputs": [],
   "source": [
    "import numpy as np\n",
    "import pandas as pd\n",
    "import matplotlib as mpl\n",
    "import matplotlib.pyplot as plt\n",
    "from sklearn import metrics\n",
    "from sklearn import datasets\n",
    "from sklearn.dummy import DummyClassifier\n",
    "from sklearn.base import BaseEstimator\n",
    "from sklearn.metrics import accuracy_score, precision_score, confusion_matrix, recall_score\n",
    "from sklearn.model_selection import train_test_split, cross_val_predict\n",
    "from sklearn.neighbors import KNeighborsClassifier\n",
    "import seaborn as sns\n",
    "import textwrap\n",
    "import warnings\n",
    "warnings.simplefilter(action='ignore', category=[FutureWarning])"
   ]
  },
  {
   "cell_type": "markdown",
   "metadata": {},
   "source": [
    "## Matplotlib & Seaborn Settings\n",
    "\n",
    "---\n"
   ]
  },
  {
   "cell_type": "code",
   "execution_count": 178,
   "metadata": {},
   "outputs": [],
   "source": [
    "mpl.rcParams.update({'font.size': 26})\n",
    "mpl.rc('figure', figsize=(8, 8))\n",
    "sns.set(font_scale=2.0)\n",
    "sns.color_palette(\"deep\")\n",
    "%matplotlib inline"
   ]
  },
  {
   "cell_type": "markdown",
   "metadata": {},
   "source": [
    "Now, let's build a simple dummy classifier."
   ]
  },
  {
   "cell_type": "markdown",
   "metadata": {},
   "source": [
    "# Simple DummyClassifier\n",
    "\n",
    "---"
   ]
  },
  {
   "cell_type": "code",
   "execution_count": 179,
   "metadata": {},
   "outputs": [
    {
     "name": "stdout",
     "output_type": "stream",
     "text": [
      "Predictions: [1 1 1 1]\n",
      "Score: 0.75\n"
     ]
    }
   ],
   "source": [
    "# Create the features\n",
    "X = np.array([-1, 1, 1, 1])\n",
    "\n",
    "# Create the target class\n",
    "y = np.array([0, 1, 1, 1])\n",
    "\n",
    "# Create a dummy classifier using the most frequest strategy\n",
    "dummy_clf = DummyClassifier(strategy=\"most_frequent\")\n",
    "\n",
    "# Fit the dummy classifier\n",
    "dummy_clf.fit(X, y)\n",
    "\n",
    "# Print the predictions and the score\n",
    "print(f'Predictions: {dummy_clf.predict(X)}')\n",
    "print(f'Score: {dummy_clf.score(X, y)}')"
   ]
  },
  {
   "cell_type": "markdown",
   "metadata": {},
   "source": [
    "The dummy classifier always predicts `1` 's because that is the most frequently occurring class in `y` (the target class). The dummy classifier achieved a 75% accuracy since there was a single `0` in the initial dataset.\n",
    "\n",
    "Let's expand this example to the Iris dataset. First, we need to load the data.\n"
   ]
  },
  {
   "cell_type": "markdown",
   "metadata": {},
   "source": [
    "# Load Iris Dataset\n",
    "\n",
    "---\n"
   ]
  },
  {
   "cell_type": "code",
   "execution_count": 180,
   "metadata": {},
   "outputs": [
    {
     "name": "stdout",
     "output_type": "stream",
     "text": [
      "Size of full dataset: 150\n",
      "Size of test dataset: 50\n"
     ]
    }
   ],
   "source": [
    "# Load the iris dataset\n",
    "iris = datasets.load_iris()\n",
    "\n",
    "# How many elements are in the data set?\n",
    "print(f'Size of full dataset: {len(iris.data)}')\n",
    "\n",
    "# Split the data into training and testing sets\n",
    "tts_iris = train_test_split(iris.data, iris.target,\n",
    "                            test_size=.33, random_state=21)\n",
    "\n",
    "# Output the result of the train_test_split to a tuple\n",
    "(iris_train_ftrs, iris_test_ftrs,\n",
    " iris_train_tgt, iris_test_tgt) = tts_iris\n",
    "\n",
    "# The test set should contain 50 elements, since we set the size to a third\n",
    "print(f'Size of test dataset: {len(iris_test_ftrs)}')"
   ]
  },
  {
   "cell_type": "markdown",
   "metadata": {},
   "source": [
    "As you can see, `train_test_split` splits arrays into random training and test sets. The `test_size` parameter corresponds to the proportion of the dataset to include in the test split. The `random_state` parameter allows for reproducible output across multiple function calls. Let's look at a few simple examples.\n"
   ]
  },
  {
   "cell_type": "markdown",
   "metadata": {},
   "source": [
    "## Splitting data into training and test sets\n",
    "\n",
    "---"
   ]
  },
  {
   "cell_type": "code",
   "execution_count": 181,
   "metadata": {},
   "outputs": [
    {
     "name": "stdout",
     "output_type": "stream",
     "text": [
      "Training Features:\n",
      "[[4 5]\n",
      " [0 1]\n",
      " [6 7]]\n",
      "Training Target:\n",
      "[2, 0, 3]\n",
      "Evaluation Features:\n",
      "[[2 3]\n",
      " [8 9]]\n",
      "Evaluation Target:\n",
      "[1, 4]\n"
     ]
    }
   ],
   "source": [
    "# Create 5 rows and 2 columns of features ranging from 0 - 9\n",
    "# and a target variable ranging from 0 - 5\n",
    "X, y = np.arange(10).reshape((5, 2)), range(5)\n",
    "\n",
    "# Divide the data into training and testing sets\n",
    "tts = train_test_split(X, y, test_size=0.33, random_state=42)\n",
    "\n",
    "# Get the training and testing features and targets\n",
    "(train_features, test_features,\n",
    " train_target,   test_target) = tts\n",
    "\n",
    "# Print them out to verify the results\n",
    "print(f'Training Features:')\n",
    "print(f'{train_features}')\n",
    "print(f'Training Target:')\n",
    "print(f'{train_target}')\n",
    "print(f'Evaluation Features:')\n",
    "print(f'{test_features}')\n",
    "print(f'Evaluation Target:')\n",
    "print(f'{test_target}')"
   ]
  },
  {
   "cell_type": "markdown",
   "metadata": {},
   "source": [
    "Setting `shuffle` to `False` specifies whether or not to shuffle the data before splitting. If `shuffle=False` , then stratify must be `None` (the default).\n"
   ]
  },
  {
   "cell_type": "code",
   "execution_count": 182,
   "metadata": {},
   "outputs": [
    {
     "data": {
      "text/plain": [
       "[[0, 1, 2], [3, 4]]"
      ]
     },
     "execution_count": 182,
     "metadata": {},
     "output_type": "execute_result"
    }
   ],
   "source": [
    "train_test_split(y, shuffle=False)"
   ]
  },
  {
   "cell_type": "markdown",
   "metadata": {},
   "source": [
    "Let's get back to the Iris dataset.\n"
   ]
  },
  {
   "cell_type": "code",
   "execution_count": 183,
   "metadata": {},
   "outputs": [
    {
     "name": "stdout",
     "output_type": "stream",
     "text": [
      "Iris Training Features\n",
      "----------------------\n",
      "[[6.9 3.1 4.9 1.5]\n",
      " [5.  3.3 1.4 0.2]\n",
      " [6.7 3.1 4.4 1.4]\n",
      " [7.7 2.6 6.9 2.3]\n",
      " [5.7 2.8 4.5 1.3]\n",
      " [5.8 2.7 4.1 1. ]\n",
      " [4.6 3.1 1.5 0.2]\n",
      " [5.1 3.5 1.4 0.3]\n",
      " [7.7 3.  6.1 2.3]\n",
      " [4.7 3.2 1.6 0.2]]\n",
      "\n",
      "Iris Training Target\n",
      "--------------------\n",
      "[1 0 1 2 1 1 0 0 2 0]\n",
      "\n",
      "Iris Testing Features\n",
      "---------------------\n",
      "[[5.8 2.6 4.  1.2]\n",
      " [5.1 3.8 1.9 0.4]\n",
      " [5.  3.4 1.5 0.2]\n",
      " [5.1 3.7 1.5 0.4]\n",
      " [5.7 3.  4.2 1.2]\n",
      " [6.6 3.  4.4 1.4]\n",
      " [5.4 3.4 1.7 0.2]\n",
      " [5.6 2.8 4.9 2. ]\n",
      " [5.  3.4 1.6 0.4]\n",
      " [5.1 3.8 1.5 0.3]]\n",
      "\n",
      "Iris Testing Target\n",
      "---------------------\n",
      "[1 0 0 0 1 1 0 2 0 0]\n"
     ]
    }
   ],
   "source": [
    "print('Iris Training Features')\n",
    "print('----------------------')\n",
    "print(iris_train_ftrs[:10])\n",
    "print()\n",
    "print('Iris Training Target')\n",
    "print('--------------------')\n",
    "print(iris_train_tgt[:10])\n",
    "print()\n",
    "print('Iris Testing Features')\n",
    "print('---------------------')\n",
    "print(iris_test_ftrs[:10])\n",
    "print()\n",
    "print('Iris Testing Target')\n",
    "print('---------------------')\n",
    "print(iris_test_tgt[:10])"
   ]
  },
  {
   "cell_type": "markdown",
   "metadata": {},
   "source": [
    "# Iris Dataset DummyClassifier\n",
    "\n",
    "---\n",
    "\n",
    "What's the most frequently occurring class in the Iris dataset?\n",
    "\n",
    "Let's look at a bar chart of the target variable. As a reminder, the target variable in the Iris dataset is the type of Iris plant (e.g., Setosa, Versicolour, or Virginica).\n"
   ]
  },
  {
   "cell_type": "code",
   "execution_count": 184,
   "metadata": {},
   "outputs": [
    {
     "name": "stdout",
     "output_type": "stream",
     "text": [
      "Class counts\n",
      "------------\n",
      "[[ 0 32]\n",
      " [ 1 33]\n",
      " [ 2 35]]\n"
     ]
    },
    {
     "data": {
      "image/png": "[encoded data removed]",
      "text/plain": [
       "<Figure size 864x576 with 1 Axes>"
      ]
     },
     "metadata": {
      "needs_background": "light"
     },
     "output_type": "display_data"
    }
   ],
   "source": [
    "# Get the unique values and counts of the target variable\n",
    "values, counts = np.unique(iris_train_tgt, return_counts=True)\n",
    "\n",
    "# Print the output\n",
    "print('Class counts')\n",
    "print('------------')\n",
    "print(np.c_[values, counts])\n",
    "\n",
    "plt.figure(figsize=(12, 8))\n",
    "\n",
    "# Create the bar chart\n",
    "bars = sns.barplot(x=values, y=counts)\n",
    "\n",
    "# Create the labels above the bars\n",
    "plt.bar_label(bars.containers[0], label_type=\"edge\", size=26)\n",
    "\n",
    "# Set the titles, axes, and layout\n",
    "plt.title(\"Frequency of Target Variable Classes in the Iris Dataset\")\n",
    "plt.xlabel(\"Class\")\n",
    "plt.ylabel(\"Counts\")\n",
    "labels = ['Iris Setosa (\"0\")', 'Iris Versicolour (\"1\")',\n",
    "          'Iris Virginica (\"2\")']\n",
    "plt.xticks(values, labels, rotation=9)\n",
    "plt.ylim(0, 40)\n",
    "plt.show()"
   ]
  },
  {
   "cell_type": "markdown",
   "metadata": {},
   "source": [
    "As you can see, `2` or `Iris Virginica` is the most frequently occurring class in the Iris dataset. Supplying the `most_frequent` argument to the `strategy` parameter of the `DummyClassifier` class should return a classifier that predicts all `2` 's.\n"
   ]
  },
  {
   "cell_type": "markdown",
   "metadata": {},
   "source": [
    "## Iris Dataset - `most_frequent` DummyClassifier\n",
    "\n",
    "---\n",
    "\n",
    "Let's create a baseline classifier for the Iris dataset using the `most_frequent` strategy.\n"
   ]
  },
  {
   "cell_type": "code",
   "execution_count": 185,
   "metadata": {},
   "outputs": [
    {
     "name": "stdout",
     "output_type": "stream",
     "text": [
      "Length of baseline predictions: 50\n",
      "Ten baseline predictions (they are all 2's): [2 2 2 2 2 2 2 2 2 2]\n"
     ]
    }
   ],
   "source": [
    "# Create the classifier\n",
    "baseline = DummyClassifier(strategy=\"most_frequent\")\n",
    "\n",
    "# Fit the classifier\n",
    "baseline.fit(iris_train_ftrs, iris_train_tgt)\n",
    "\n",
    "# Make predictions based on the classifier\n",
    "base_preds = baseline.predict(iris_test_ftrs)\n",
    "\n",
    "# Print to verify results\n",
    "print(f'Length of baseline predictions: {len(base_preds)}')\n",
    "print(f'Ten baseline predictions (they are all 2\\'s): {base_preds[:10]}')"
   ]
  },
  {
   "cell_type": "markdown",
   "metadata": {},
   "source": [
    "Let's check the accuracy of these predictions on the test dataset.\n"
   ]
  },
  {
   "cell_type": "code",
   "execution_count": 186,
   "metadata": {},
   "outputs": [
    {
     "name": "stdout",
     "output_type": "stream",
     "text": [
      "Accuracy of the baseline classifier: 0.3\n"
     ]
    }
   ],
   "source": [
    "# Check the accuracy of the baseline classifier\n",
    "base_acc = accuracy_score(base_preds, iris_test_tgt)\n",
    "print(f'Accuracy of the baseline classifier: {base_acc}')"
   ]
  },
  {
   "cell_type": "markdown",
   "metadata": {},
   "source": [
    "As expected, the baseline classifier does not perform that well. Now, let's check the accuracies of all the baseline classifier strategies.\n",
    "\n",
    "## Comparing the accuracies of all baseline strategies\n",
    "\n",
    "---\n"
   ]
  },
  {
   "cell_type": "code",
   "execution_count": 187,
   "metadata": {},
   "outputs": [
    {
     "data": {
      "text/html": [
       "<div>\n",
       "<style scoped>\n",
       "    .dataframe tbody tr th:only-of-type {\n",
       "        vertical-align: middle;\n",
       "    }\n",
       "\n",
       "    .dataframe tbody tr th {\n",
       "        vertical-align: top;\n",
       "    }\n",
       "\n",
       "    .dataframe thead th {\n",
       "        text-align: right;\n",
       "    }\n",
       "</style>\n",
       "<table border=\"1\" class=\"dataframe\">\n",
       "  <thead>\n",
       "    <tr style=\"text-align: right;\">\n",
       "      <th></th>\n",
       "      <th>accuracy</th>\n",
       "    </tr>\n",
       "  </thead>\n",
       "  <tbody>\n",
       "    <tr>\n",
       "      <th>constant</th>\n",
       "      <td>0.36</td>\n",
       "    </tr>\n",
       "    <tr>\n",
       "      <th>uniform</th>\n",
       "      <td>0.28</td>\n",
       "    </tr>\n",
       "    <tr>\n",
       "      <th>stratified</th>\n",
       "      <td>0.34</td>\n",
       "    </tr>\n",
       "    <tr>\n",
       "      <th>prior</th>\n",
       "      <td>0.30</td>\n",
       "    </tr>\n",
       "    <tr>\n",
       "      <th>most_frequent</th>\n",
       "      <td>0.30</td>\n",
       "    </tr>\n",
       "  </tbody>\n",
       "</table>\n",
       "</div>"
      ],
      "text/plain": [
       "               accuracy\n",
       "constant           0.36\n",
       "uniform            0.28\n",
       "stratified         0.34\n",
       "prior              0.30\n",
       "most_frequent      0.30"
      ]
     },
     "metadata": {},
     "output_type": "display_data"
    }
   ],
   "source": [
    "# Create a list of strategies\n",
    "strategies = ['constant', 'uniform', 'stratified', 'prior', 'most_frequent']\n",
    "\n",
    "# Set up args to create different DummyClassifier strategies\n",
    "baseline_args = [{'strategy': s} for s in strategies]\n",
    "\n",
    "# Class 0 is setosa\n",
    "baseline_args[0]['constant'] = 0\n",
    "accuracies = []\n",
    "\n",
    "# Loop through the classifiers and display the results in a DF\n",
    "for bla in baseline_args:\n",
    "    baseline = DummyClassifier(**bla)\n",
    "    baseline.fit(iris_train_ftrs, iris_train_tgt)\n",
    "    base_preds = baseline.predict(iris_test_ftrs)\n",
    "    accuracies.append(accuracy_score(base_preds, iris_test_tgt))\n",
    "\n",
    "display(pd.DataFrame({'accuracy': accuracies}, index=strategies))"
   ]
  },
  {
   "cell_type": "markdown",
   "metadata": {},
   "source": [
    "The `uniform` and `stratified` strategies will return different results when re-run multiple times on a fixed train-test split because they are _randomized_ methods. The other techniques always return the same values for a fixed train-test split.\n",
    "\n",
    "Let's do the same thing using the MNIST dataset.\n",
    "\n",
    "# MNIST Dataset - DummyClassifier\n",
    "\n",
    "---\n"
   ]
  },
  {
   "cell_type": "code",
   "execution_count": 205,
   "metadata": {},
   "outputs": [
    {
     "data": {
      "text/html": [
       "<div>\n",
       "<style scoped>\n",
       "    .dataframe tbody tr th:only-of-type {\n",
       "        vertical-align: middle;\n",
       "    }\n",
       "\n",
       "    .dataframe tbody tr th {\n",
       "        vertical-align: top;\n",
       "    }\n",
       "\n",
       "    .dataframe thead th {\n",
       "        text-align: right;\n",
       "    }\n",
       "</style>\n",
       "<table border=\"1\" class=\"dataframe\">\n",
       "  <thead>\n",
       "    <tr style=\"text-align: right;\">\n",
       "      <th></th>\n",
       "      <th>accuracy</th>\n",
       "    </tr>\n",
       "  </thead>\n",
       "  <tbody>\n",
       "    <tr>\n",
       "      <th>constant</th>\n",
       "      <td>0.9108</td>\n",
       "    </tr>\n",
       "    <tr>\n",
       "      <th>uniform</th>\n",
       "      <td>0.4944</td>\n",
       "    </tr>\n",
       "    <tr>\n",
       "      <th>stratified</th>\n",
       "      <td>0.8396</td>\n",
       "    </tr>\n",
       "    <tr>\n",
       "      <th>prior</th>\n",
       "      <td>0.9108</td>\n",
       "    </tr>\n",
       "    <tr>\n",
       "      <th>most_frequent</th>\n",
       "      <td>0.9108</td>\n",
       "    </tr>\n",
       "  </tbody>\n",
       "</table>\n",
       "</div>"
      ],
      "text/plain": [
       "               accuracy\n",
       "constant         0.9108\n",
       "uniform          0.4944\n",
       "stratified       0.8396\n",
       "prior            0.9108\n",
       "most_frequent    0.9108"
      ]
     },
     "metadata": {},
     "output_type": "display_data"
    }
   ],
   "source": [
    "# Read in vars from previous notebook\n",
    "%store -r\n",
    "\n",
    "# Create a list of strategies\n",
    "strategies = ['constant', 'uniform', 'stratified', 'prior', 'most_frequent']\n",
    "\n",
    "# Set up args to create different DummyClassifier strategies\n",
    "baseline_args = [{'strategy': s} for s in strategies]\n",
    "\n",
    "# False is the constant class\n",
    "baseline_args[0]['constant'] = False\n",
    "accuracies = []\n",
    "\n",
    "# Loop through the classifiers and display the results in a DF\n",
    "for bla in baseline_args:\n",
    "    baseline = DummyClassifier(**bla)\n",
    "    baseline.fit(X_train, y_train_5)\n",
    "    base_preds = baseline.predict(X_test)\n",
    "    accuracies.append(accuracy_score(base_preds, y_test_5))\n",
    "\n",
    "display(pd.DataFrame({'accuracy': accuracies}, index=strategies))"
   ]
  },
  {
   "cell_type": "markdown",
   "metadata": {},
   "source": [
    "The `constant` , `prior` , and `most_frequent` strategies all perform the same. The accuracy is so high because only about 10% of the images in the dataset are 5s and this classifier predicts whether or not an image is a 5.\n",
    "\n",
    "What are some of the other metrics we can use to evaluate a classifier? Let's take a look.\n"
   ]
  },
  {
   "cell_type": "markdown",
   "metadata": {},
   "source": [
    "# Metrics Keys\n",
    "\n",
    "---\n"
   ]
  },
  {
   "cell_type": "code",
   "execution_count": 189,
   "metadata": {},
   "outputs": [
    {
     "name": "stdout",
     "output_type": "stream",
     "text": [
      "['accuracy', 'adjusted_mutual_info_score', 'adjusted_rand_score',\n",
      "'average_precision', 'balanced_accuracy', 'completeness_score',\n",
      "'explained_variance', 'f1', 'f1_macro', 'f1_micro', 'f1_samples',\n",
      "'f1_weighted', 'fowlkes_mallows_score', 'homogeneity_score',\n",
      "'jaccard', 'jaccard_macro', 'jaccard_micro', 'jaccard_samples',\n",
      "'jaccard_weighted', 'matthews_corrcoef', 'max_error',\n",
      "'mutual_info_score', 'neg_brier_score', 'neg_log_loss',\n",
      "'neg_mean_absolute_error', 'neg_mean_absolute_percentage_error',\n",
      "'neg_mean_gamma_deviance', 'neg_mean_poisson_deviance',\n",
      "'neg_mean_squared_error', 'neg_mean_squared_log_error',\n",
      "'neg_median_absolute_error', 'neg_root_mean_squared_error',\n",
      "'normalized_mutual_info_score', 'precision', 'precision_macro',\n",
      "'precision_micro', 'precision_samples', 'precision_weighted', 'r2',\n",
      "'rand_score', 'recall', 'recall_macro', 'recall_micro',\n",
      "'recall_samples', 'recall_weighted', 'roc_auc', 'roc_auc_ovo',\n",
      "'roc_auc_ovo_weighted', 'roc_auc_ovr', 'roc_auc_ovr_weighted',\n",
      "'top_k_accuracy', 'v_measure_score']\n"
     ]
    }
   ],
   "source": [
    "print(textwrap.fill(str(sorted(metrics.SCORERS.keys())), width=70))"
   ]
  },
  {
   "cell_type": "markdown",
   "metadata": {},
   "source": [
    "There certainly are a lot. How can we figure out the default scorer for a particular classifier? Let's take a look at a *k*-nearest neighbor classifier, for instance.\n"
   ]
  },
  {
   "cell_type": "markdown",
   "metadata": {},
   "source": [
    "## Default Scorer for Classifier\n",
    "\n",
    "---\n"
   ]
  },
  {
   "cell_type": "code",
   "execution_count": 190,
   "metadata": {},
   "outputs": [
    {
     "name": "stdout",
     "output_type": "stream",
     "text": [
      "Returns\n",
      "        -------\n",
      "        score : float\n",
      "            Mean accuracy of ``self.predict(X)`` wrt. `y`.\n",
      "        \n"
     ]
    }
   ],
   "source": [
    "knn = KNeighborsClassifier()\n",
    "\n",
    "Returns_index = '\\n'.join(knn.score.__doc__.splitlines()).index('Returns')\n",
    "print('\\n'.join(knn.score.__doc__.splitlines())[Returns_index:])"
   ]
  },
  {
   "cell_type": "markdown",
   "metadata": {},
   "source": [
    "The above shows that the default evaluation metric for _k_-NN is mean accuracy. Let's look into confusion matrices and some other metrics, including the `precision`, `recall`, and `specificity`. \n",
    "\n",
    "First, we'll look at a generic confusion matrix."
   ]
  },
  {
   "cell_type": "markdown",
   "metadata": {},
   "source": [
    "# Generic Confusion Matrix\n",
    "\n",
    "---\n"
   ]
  },
  {
   "cell_type": "markdown",
   "metadata": {},
   "source": [
    "The below provides a sample of what hypothetical predictions returned by a binary classifier might look like, along with corresponding result labels.\n"
   ]
  },
  {
   "cell_type": "code",
   "execution_count": 191,
   "metadata": {},
   "outputs": [
    {
     "data": {
      "text/html": [
       "<div>\n",
       "<style scoped>\n",
       "    .dataframe tbody tr th:only-of-type {\n",
       "        vertical-align: middle;\n",
       "    }\n",
       "\n",
       "    .dataframe tbody tr th {\n",
       "        vertical-align: top;\n",
       "    }\n",
       "\n",
       "    .dataframe thead th {\n",
       "        text-align: right;\n",
       "    }\n",
       "</style>\n",
       "<table border=\"1\" class=\"dataframe\">\n",
       "  <thead>\n",
       "    <tr style=\"text-align: right;\">\n",
       "      <th></th>\n",
       "      <th>Reality</th>\n",
       "      <th>Prediction</th>\n",
       "      <th>Result</th>\n",
       "      <th>Abbreviation</th>\n",
       "    </tr>\n",
       "  </thead>\n",
       "  <tbody>\n",
       "    <tr>\n",
       "      <th>0</th>\n",
       "      <td>0</td>\n",
       "      <td>0</td>\n",
       "      <td>True Negative</td>\n",
       "      <td>TN</td>\n",
       "    </tr>\n",
       "    <tr>\n",
       "      <th>1</th>\n",
       "      <td>1</td>\n",
       "      <td>0</td>\n",
       "      <td>False Negative</td>\n",
       "      <td>FN</td>\n",
       "    </tr>\n",
       "    <tr>\n",
       "      <th>2</th>\n",
       "      <td>0</td>\n",
       "      <td>1</td>\n",
       "      <td>False Positive</td>\n",
       "      <td>FP</td>\n",
       "    </tr>\n",
       "    <tr>\n",
       "      <th>3</th>\n",
       "      <td>1</td>\n",
       "      <td>1</td>\n",
       "      <td>True Positive</td>\n",
       "      <td>TP</td>\n",
       "    </tr>\n",
       "  </tbody>\n",
       "</table>\n",
       "</div>"
      ],
      "text/plain": [
       "  Reality Prediction          Result Abbreviation\n",
       "0       0          0   True Negative           TN\n",
       "1       1          0  False Negative           FN\n",
       "2       0          1  False Positive           FP\n",
       "3       1          1   True Positive           TP"
      ]
     },
     "execution_count": 191,
     "metadata": {},
     "output_type": "execute_result"
    }
   ],
   "source": [
    "d = {'Reality': ['0', '1', '0', '1'],\n",
    "    'Prediction': ['0', '0', '1', '1'],\n",
    "    'Result': ['True Negative', 'False Negative', 'False Positive', 'True Positive'],\n",
    "    'Abbreviation': ['TN', 'FN', 'FP', 'TP']}\n",
    "\n",
    "df = pd.DataFrame(data=d)\n",
    "df"
   ]
  },
  {
   "cell_type": "markdown",
   "metadata": {},
   "source": [
    "In a generic confusion matrix, the rows represent reality, and the columns represent predictions. However, depending on who draws the confusion matrix, the rows and columns might be flip-flopped. Let's take a look at a generic confusion matrix."
   ]
  },
  {
   "cell_type": "code",
   "execution_count": 192,
   "metadata": {},
   "outputs": [
    {
     "data": {
      "text/html": [
       "<div>\n",
       "<style scoped>\n",
       "    .dataframe tbody tr th:only-of-type {\n",
       "        vertical-align: middle;\n",
       "    }\n",
       "\n",
       "    .dataframe tbody tr th {\n",
       "        vertical-align: top;\n",
       "    }\n",
       "\n",
       "    .dataframe thead th {\n",
       "        text-align: right;\n",
       "    }\n",
       "</style>\n",
       "<table border=\"1\" class=\"dataframe\">\n",
       "  <thead>\n",
       "    <tr style=\"text-align: right;\">\n",
       "      <th></th>\n",
       "      <th>Predicted Negative (PredN)</th>\n",
       "      <th>Predicted Positive (PredP)</th>\n",
       "    </tr>\n",
       "  </thead>\n",
       "  <tbody>\n",
       "    <tr>\n",
       "      <th>Real Negative (RealN)</th>\n",
       "      <td>True Negative (TN)</td>\n",
       "      <td>False Positive (FP)</td>\n",
       "    </tr>\n",
       "    <tr>\n",
       "      <th>Real Positive (RealP)</th>\n",
       "      <td>False Negative (FN)</td>\n",
       "      <td>True Positive (TP)</td>\n",
       "    </tr>\n",
       "  </tbody>\n",
       "</table>\n",
       "</div>"
      ],
      "text/plain": [
       "                      Predicted Negative (PredN) Predicted Positive (PredP)\n",
       "Real Negative (RealN)         True Negative (TN)        False Positive (FP)\n",
       "Real Positive (RealP)        False Negative (FN)         True Positive (TP)"
      ]
     },
     "execution_count": 192,
     "metadata": {},
     "output_type": "execute_result"
    }
   ],
   "source": [
    "data = {'Predicted Negative (PredN)': ['True Negative (TN)', 'False Negative (FN)'],\n",
    "        'Predicted Positive (PredP)': ['False Positive (FP)', 'True Positive (TP)']}\n",
    "\n",
    "df = pd.DataFrame(\n",
    "    data, index=['Real Negative (RealN)', 'Real Positive (RealP)'])\n",
    "\n",
    "df"
   ]
  },
  {
   "cell_type": "markdown",
   "metadata": {},
   "source": [
    "We can use the following equations to represent reality and our predictions:\n",
    "\n",
    "$$\\text{Real Negatives} = TN + FP$$\n",
    "$$\\text{Real Positives} = FN + TP$$\n",
    "$$\\text{Predicted Negatives} = TN + FN$$\n",
    "$$\\text{Predicted Positives} = FP + TP$$\n",
    "\n",
    "Let's look at some additional metrics the confusion matrix provides.\n",
    "\n",
    "# Metrics from the Confusion Matrix\n",
    "\n",
    "---\n",
    "\n",
    "The following provides an overview of some metrics we can calculate from a confusion matrix.\n",
    "\n",
    "![confusion-matrix](./images-md/confusion-matrix-snippet.PNG)\n",
    "\n",
    "## Specificity, False Positives, False Alarms, Type I Errors, and Overestimation\n",
    "\n",
    "---\n",
    "\n",
    "Let's start with the specificity, which we can calculate using the top row of the above confusion matrix. The specificity is also known as the _true negative rate_ (TNR). The specificity evaluates how many cases we correctly identified as false out of all the real negative cases. The best value is 1 and the worst value is 0. $$\\text{specificity} = \\frac{TN}{FP + TN} = \\frac{TN}{RealN}$$\n",
    "\n",
    "Another way to think about the specificity is whether or not the classifier raises a flag in the _specific_ cases we want it to. The specificity is intuitively the ability of the classifier to find all the negative samples. The specificity aims to minimize false positives. False negatives do not affect its outcome.\n",
    "\n",
    "Two ways come to mind to calculate it in `sklearn` on a binary classifier. The first is by calculating the true negatives, etc., from the confusion matrix and performing the calculation by hand. Second, we can set the `pos_label` argument of the `recall_score` function to `0`, producing the same result. Let's look at how different predictions output differing specificities on a balanced dataset.\n"
   ]
  },
  {
   "cell_type": "code",
   "execution_count": 193,
   "metadata": {},
   "outputs": [
    {
     "name": "stdout",
     "output_type": "stream",
     "text": [
      "1. All False Predictions\n",
      "-----------------------------\n",
      "y_true: [0, 0, 0, 0, 0, 1, 1, 1, 1, 1]\n",
      "y_pred: [0, 0, 0, 0, 0, 0, 0, 0, 0, 0]\n",
      "\n",
      "True Negatives: 5\n",
      "False Positives: 0\n",
      "True Positives: 0\n",
      "False Negatives: 5\n",
      "\n",
      "True Negative Rate 1 (Specificity): 1.000\n",
      "True Negative Rate 2 (Specificity): 1.000\n",
      "\n",
      "2. Some False Positives\n",
      "-----------------------------\n",
      "y_true: [0, 0, 0, 0, 0, 1, 1, 1, 1, 1]\n",
      "y_pred: [0, 0, 0, 1, 1, 1, 1, 1, 1, 1]\n",
      "\n",
      "True Negatives: 3\n",
      "False Positives: 2\n",
      "True Positives: 5\n",
      "False Negatives: 0\n",
      "\n",
      "True Negative Rate 1 (Specificity): 0.600\n",
      "True Negative Rate 2 (Specificity): 0.600\n",
      "\n",
      "3. Some False Negatives\n",
      "-----------------------------\n",
      "y_true: [0, 0, 0, 0, 0, 1, 1, 1, 1, 1]\n",
      "y_pred: [0, 0, 0, 0, 0, 0, 0, 1, 1, 1]\n",
      "\n",
      "True Negatives: 5\n",
      "False Positives: 0\n",
      "True Positives: 3\n",
      "False Negatives: 2\n",
      "\n",
      "True Negative Rate 1 (Specificity): 1.000\n",
      "True Negative Rate 2 (Specificity): 1.000\n",
      "\n",
      "4. Perfect Classifier\n",
      "-----------------------------\n",
      "y_true: [0, 0, 0, 0, 0, 1, 1, 1, 1, 1]\n",
      "y_pred: [0, 0, 0, 0, 0, 1, 1, 1, 1, 1]\n",
      "\n",
      "True Negatives: 5\n",
      "False Positives: 0\n",
      "True Positives: 5\n",
      "False Negatives: 0\n",
      "\n",
      "True Negative Rate 1 (Specificity): 1.000\n",
      "True Negative Rate 2 (Specificity): 1.000\n",
      "\n"
     ]
    }
   ],
   "source": [
    "# specificity\n",
    "titles = ['All False Predictions', 'Some False Positives',\n",
    "          'Some False Negatives', 'Perfect Classifier']\n",
    "y_true = [[0, 0, 0, 0, 0, 1, 1, 1, 1, 1], [0, 0, 0, 0, 0, 1, 1, 1, 1, 1], [\n",
    "    0, 0, 0, 0, 0, 1, 1, 1, 1, 1], [0, 0, 0, 0, 0, 1, 1, 1, 1, 1]]\n",
    "y_pred = [[0, 0, 0, 0, 0, 0, 0, 0, 0, 0], [0, 0, 0, 1, 1, 1, 1, 1, 1, 1], [\n",
    "    0, 0, 0, 0, 0, 0, 0, 1, 1, 1], [0, 0, 0, 0, 0, 1, 1, 1, 1, 1]]\n",
    "for i, (y_t, y_p, title) in enumerate(zip(y_true, y_pred, titles)):\n",
    "    print(f'{i + 1}. {title}')\n",
    "    print('-----------------------------')\n",
    "    print(f'y_true: {y_t}')\n",
    "    print(f'y_pred: {y_p}')\n",
    "    print()\n",
    "    (tn, fp, fn, tp) = confusion_matrix(y_t, y_p).ravel()\n",
    "    print(f'True Negatives: {tn}')\n",
    "    print(f'False Positives: {fp}')\n",
    "    print(f'True Positives: {tp}')\n",
    "    print(f'False Negatives: {fn}')\n",
    "    print()\n",
    "    print(f'True Negative Rate 1 (Specificity): {tn / (fp + tn):.3f}')\n",
    "    print(\n",
    "        f'True Negative Rate 2 (Specificity): {recall_score(y_t, y_p, pos_label=0):.3f}')\n",
    "    print()"
   ]
  },
  {
   "cell_type": "markdown",
   "metadata": {},
   "source": [
    "The specificity only decreases when we ramp up the number of false positives. As long as the classifier identifies all negative cases, the specificity will be 1.0, even if false negatives exist.\n",
    "\n",
    "## Precision, Positive Predictive Value (PPV)\n",
    "\n",
    "---\n",
    "\n",
    "Traveling clockwise around the confusion matrix, let's look at another evaluation metric, this time the _precision_. The precision answers the question, \"What is the value of a hit?\" and is also known as the _positive predictive value_ (PPV). The formula for the precision is the following: \n",
    "\n",
    "$$\\text{precision} = \\frac{TP}{PredP} = \\frac{TP}{TP + FP}$$\n",
    "\n",
    "The precision is appropriate when we want to minimize false positives and is a metric that quantifies the number of correct positive predictions made. The precision is intuitively the ability of the classifier not to label as positive a sample that is negative. The best value is 1, and the worst value is 0. We can use the `precision_score` metric of `sklearn` to calculate a classifier's precision."
   ]
  },
  {
   "cell_type": "code",
   "execution_count": 194,
   "metadata": {},
   "outputs": [
    {
     "name": "stdout",
     "output_type": "stream",
     "text": [
      "1. All False Predictions\n",
      "-----------------------------\n",
      "y_true: [0, 0, 0, 0, 0, 1, 1, 1, 1, 1]\n",
      "y_pred: [0, 0, 0, 0, 0, 0, 0, 0, 0, 0]\n",
      "\n",
      "True Negatives: 5\n",
      "False Positives: 0\n",
      "True Positives: 0\n",
      "False Negatives: 5\n",
      "\n",
      "Positive Predictive Value (Precision): 0.000\n",
      "\n",
      "2. Some False Positives\n",
      "-----------------------------\n",
      "y_true: [0, 0, 0, 0, 0, 1, 1, 1, 1, 1]\n",
      "y_pred: [0, 0, 0, 1, 1, 1, 1, 1, 1, 1]\n",
      "\n",
      "True Negatives: 3\n",
      "False Positives: 2\n",
      "True Positives: 5\n",
      "False Negatives: 0\n",
      "\n",
      "Positive Predictive Value (Precision): 0.714\n",
      "\n",
      "3. Some False Negatives\n",
      "-----------------------------\n",
      "y_true: [0, 0, 0, 0, 0, 1, 1, 1, 1, 1]\n",
      "y_pred: [0, 0, 0, 0, 0, 0, 0, 1, 1, 1]\n",
      "\n",
      "True Negatives: 5\n",
      "False Positives: 0\n",
      "True Positives: 3\n",
      "False Negatives: 2\n",
      "\n",
      "Positive Predictive Value (Precision): 1.000\n",
      "\n",
      "4. Perfect Classifier\n",
      "-----------------------------\n",
      "y_true: [0, 0, 0, 0, 0, 1, 1, 1, 1, 1]\n",
      "y_pred: [0, 0, 0, 0, 0, 1, 1, 1, 1, 1]\n",
      "\n",
      "True Negatives: 5\n",
      "False Positives: 0\n",
      "True Positives: 5\n",
      "False Negatives: 0\n",
      "\n",
      "Positive Predictive Value (Precision): 1.000\n",
      "\n"
     ]
    }
   ],
   "source": [
    "# precision\n",
    "titles = ['All False Predictions', 'Some False Positives',\n",
    "          'Some False Negatives', 'Perfect Classifier']\n",
    "y_true = [[0, 0, 0, 0, 0, 1, 1, 1, 1, 1], [0, 0, 0, 0, 0, 1, 1, 1, 1, 1], [\n",
    "    0, 0, 0, 0, 0, 1, 1, 1, 1, 1], [0, 0, 0, 0, 0, 1, 1, 1, 1, 1]]\n",
    "y_pred = [[0, 0, 0, 0, 0, 0, 0, 0, 0, 0], [0, 0, 0, 1, 1, 1, 1, 1, 1, 1], [\n",
    "    0, 0, 0, 0, 0, 0, 0, 1, 1, 1], [0, 0, 0, 0, 0, 1, 1, 1, 1, 1]]\n",
    "for i, (y_t, y_p, title) in enumerate(zip(y_true, y_pred, titles)):\n",
    "    print(f'{i + 1}. {title}')\n",
    "    print('-----------------------------')\n",
    "    print(f'y_true: {y_t}')\n",
    "    print(f'y_pred: {y_p}')\n",
    "    print()\n",
    "    (tn, fp, fn, tp) = confusion_matrix(y_t, y_p).ravel()\n",
    "    print(f'True Negatives: {tn}')\n",
    "    print(f'False Positives: {fp}')\n",
    "    print(f'True Positives: {tp}')\n",
    "    print(f'False Negatives: {fn}')\n",
    "    print()\n",
    "    print(\n",
    "        f'Positive Predictive Value (Precision): {precision_score(y_t, y_p,zero_division=False):.3f}')\n",
    "    print()"
   ]
  },
  {
   "cell_type": "markdown",
   "metadata": {},
   "source": [
    "Whereas the specificity for a classifier that predicts all negative cases was 1.0, the precision is 0. The precision increases as the true positives increase and the false positives decrease. False negatives do not affect the calculation.\n",
    "\n",
    "## Recall, Sensitivity, and True Positive Rate (TPR)\n",
    "\n",
    "---\n",
    "\n",
    "Now to the bottom row of the above confusion matrix to calculate the recall. The recall is also known as the _sensitivity_ or _true positive rate_ (TPR) and is appropriate when focusing on minimizing false negatives. Imagine a classifier that predicts whether a web page results from a search engine request. The recall answers the question, \"Of the valuable web page results, how many did the classifier identify or _recall_ correctly?\" Another way to phrase this is, \"Within real-world cases of the target class, how many did the classifier identify?\" Intuitively, the recall is the classifier's ability to find all the positive samples. At last, the recall is not concerned with false positives and _minimizes_ false negatives.\n",
    "\n",
    "$$ \\text{recall} = \\frac{TP}{FN + TP} = \\frac{TP}{RealP}$$\n",
    "\n",
    "## The Complement of the Recall, The False Negative Rate, Type II error, Miss, Underestimation\n",
    "\n",
    "---\n",
    "\n",
    "The complement to caring about the number of hits we got right is the number of real hits we got wrong, which would produce a Type II error known as a _false negative_.\n",
    "\n",
    "$$ \\text{false negative rate} = \\frac{FN}{TP + FN} = \\frac{FN}{RealP} $$\n",
    "\n",
    "The false negative rate is equivalent to the following:\n",
    "\n",
    "$$ \\text{false negative rate} = 1 - \\text{true positive rate} $$\n",
    "\n",
    "In other words, we can break the target class down into two groups:\n",
    "\n",
    "* Real positives the classifier identified correctly\n",
    "* Real positives the classifier identified incorrectly\n",
    " \n",
    "Using the recall and its complement, we can add up the hits we got right with the hits we got wrong, giving us all the real positive cases.\n",
    "\n",
    "$$ \\frac{TP}{TP+FN} + \\frac{FN}{TP+FN} = \\frac{TP+FN}{TP+FN} = 1 $$\n",
    "\n",
    "Let's develop some intution regarding the recall and its complement."
   ]
  },
  {
   "cell_type": "code",
   "execution_count": 195,
   "metadata": {},
   "outputs": [
    {
     "name": "stdout",
     "output_type": "stream",
     "text": [
      "1. All False Predictions\n",
      "-----------------------------\n",
      "y_true: [0, 0, 0, 0, 0, 1, 1, 1, 1, 1]\n",
      "y_pred: [0, 0, 0, 0, 0, 0, 0, 0, 0, 0]\n",
      "\n",
      "True Negatives: 5\n",
      "False Positives: 0\n",
      "True Positives: 0\n",
      "False Negatives: 5\n",
      "\n",
      "True Positive Rate (Recall): 0.000\n",
      "False Negative Rate (Miss Rate): 1.000\n",
      "\n",
      "2. Some False Positives\n",
      "-----------------------------\n",
      "y_true: [0, 0, 0, 0, 0, 1, 1, 1, 1, 1]\n",
      "y_pred: [0, 0, 0, 1, 1, 1, 1, 1, 1, 1]\n",
      "\n",
      "True Negatives: 3\n",
      "False Positives: 2\n",
      "True Positives: 5\n",
      "False Negatives: 0\n",
      "\n",
      "True Positive Rate (Recall): 1.000\n",
      "False Negative Rate (Miss Rate): 0.000\n",
      "\n",
      "3. Some False Negatives\n",
      "-----------------------------\n",
      "y_true: [0, 0, 0, 0, 0, 1, 1, 1, 1, 1]\n",
      "y_pred: [0, 0, 0, 0, 0, 0, 0, 1, 1, 1]\n",
      "\n",
      "True Negatives: 5\n",
      "False Positives: 0\n",
      "True Positives: 3\n",
      "False Negatives: 2\n",
      "\n",
      "True Positive Rate (Recall): 0.600\n",
      "False Negative Rate (Miss Rate): 0.400\n",
      "\n",
      "4. Perfect Classifier\n",
      "-----------------------------\n",
      "y_true: [0, 0, 0, 0, 0, 1, 1, 1, 1, 1]\n",
      "y_pred: [0, 0, 0, 0, 0, 1, 1, 1, 1, 1]\n",
      "\n",
      "True Negatives: 5\n",
      "False Positives: 0\n",
      "True Positives: 5\n",
      "False Negatives: 0\n",
      "\n",
      "True Positive Rate (Recall): 1.000\n",
      "False Negative Rate (Miss Rate): 0.000\n",
      "\n"
     ]
    }
   ],
   "source": [
    "# Recall and False Negative Rate\n",
    "titles = ['All False Predictions', 'Some False Positives',\n",
    "          'Some False Negatives', 'Perfect Classifier']\n",
    "y_true = [[0, 0, 0, 0, 0, 1, 1, 1, 1, 1], [0, 0, 0, 0, 0, 1, 1, 1, 1, 1], [\n",
    "    0, 0, 0, 0, 0, 1, 1, 1, 1, 1], [0, 0, 0, 0, 0, 1, 1, 1, 1, 1]]\n",
    "y_pred = [[0, 0, 0, 0, 0, 0, 0, 0, 0, 0], [0, 0, 0, 1, 1, 1, 1, 1, 1, 1], [\n",
    "    0, 0, 0, 0, 0, 0, 0, 1, 1, 1], [0, 0, 0, 0, 0, 1, 1, 1, 1, 1]]\n",
    "for i, (y_t, y_p, title) in enumerate(zip(y_true, y_pred, titles)):\n",
    "    print(f'{i + 1}. {title}')\n",
    "    print('-----------------------------')\n",
    "    print(f'y_true: {y_t}')\n",
    "    print(f'y_pred: {y_p}')\n",
    "    print()\n",
    "    (tn, fp, fn, tp) = confusion_matrix(y_t, y_p).ravel()\n",
    "    print(f'True Negatives: {tn}')\n",
    "    print(f'False Positives: {fp}')\n",
    "    print(f'True Positives: {tp}')\n",
    "    print(f'False Negatives: {fn}')\n",
    "    print()\n",
    "    print(f'True Positive Rate (Recall): {recall_score(y_t, y_p):.3f}')\n",
    "    print(\n",
    "        f'False Negative Rate (Miss Rate): {fn / (tp + fn):.3f}')\n",
    "    print()"
   ]
  },
  {
   "cell_type": "markdown",
   "metadata": {},
   "source": [
    "# Coding the Confusion Matrix\n",
    "\n",
    "---\n",
    "\n",
    "Let's code several confusion matrics for fictitious classifiers and calculate the metrics defined above for each. We use a `seaborn` `heatmap` to visualize the confusion matrices.\n"
   ]
  },
  {
   "cell_type": "code",
   "execution_count": 196,
   "metadata": {},
   "outputs": [
    {
     "data": {
      "image/png": "[encoded data removed]",
      "text/plain": [
       "<Figure size 864x864 with 4 Axes>"
      ]
     },
     "metadata": {
      "needs_background": "light"
     },
     "output_type": "display_data"
    },
    {
     "name": "stdout",
     "output_type": "stream",
     "text": [
      "1. All False Predictions\n",
      "-----------------------------\n",
      "True Negatives: 5\n",
      "False Positives: 0\n",
      "True Positives: 0\n",
      "False Negatives: 5\n",
      "\n",
      "True Negative Rate (Specificity): 1.000\n",
      "Positive Predictive Value (Precision): 0.000\n",
      "\n",
      "True Positive Rate (Recall): 0.000\n",
      "False Negative Rate (Recall Complement): 1.000\n",
      "\n",
      "Accuracy: 0.500\n",
      "\n",
      "2. Some False Positives\n",
      "-----------------------------\n",
      "True Negatives: 3\n",
      "False Positives: 2\n",
      "True Positives: 5\n",
      "False Negatives: 0\n",
      "\n",
      "True Negative Rate (Specificity): 0.600\n",
      "Positive Predictive Value (Precision): 0.714\n",
      "\n",
      "True Positive Rate (Recall): 1.000\n",
      "False Negative Rate (Recall Complement): 0.000\n",
      "\n",
      "Accuracy: 0.800\n",
      "\n",
      "3. Some False Negatives\n",
      "-----------------------------\n",
      "True Negatives: 5\n",
      "False Positives: 0\n",
      "True Positives: 3\n",
      "False Negatives: 2\n",
      "\n",
      "True Negative Rate (Specificity): 1.000\n",
      "Positive Predictive Value (Precision): 1.000\n",
      "\n",
      "True Positive Rate (Recall): 0.600\n",
      "False Negative Rate (Recall Complement): 0.400\n",
      "\n",
      "Accuracy: 0.800\n",
      "\n",
      "4. Perfect Classifier\n",
      "-----------------------------\n",
      "True Negatives: 5\n",
      "False Positives: 0\n",
      "True Positives: 5\n",
      "False Negatives: 0\n",
      "\n",
      "True Negative Rate (Specificity): 1.000\n",
      "Positive Predictive Value (Precision): 1.000\n",
      "\n",
      "True Positive Rate (Recall): 1.000\n",
      "False Negative Rate (Recall Complement): 0.000\n",
      "\n",
      "Accuracy: 1.000\n",
      "\n"
     ]
    }
   ],
   "source": [
    "titles = ['All False Predictions', 'Some False Positives',\n",
    "          'Some False Negatives', 'Perfect Classifier']\n",
    "fig, axes = plt.subplots(2, 2, figsize=(12, 12), sharex=True, sharey=True)\n",
    "fig.tight_layout()\n",
    "y_true = [[0, 0, 0, 0, 0, 1, 1, 1, 1, 1], [0, 0, 0, 0, 0, 1, 1, 1, 1, 1], [\n",
    "    0, 0, 0, 0, 0, 1, 1, 1, 1, 1], [0, 0, 0, 0, 0, 1, 1, 1, 1, 1]]\n",
    "y_pred = [[0, 0, 0, 0, 0, 0, 0, 0, 0, 0], [0, 0, 0, 1, 1, 1, 1, 1, 1, 1], [\n",
    "    0, 0, 0, 0, 0, 0, 0, 1, 1, 1], [0, 0, 0, 0, 0, 1, 1, 1, 1, 1]]\n",
    "\n",
    "for i, (ax, y_t, y_p, title) in enumerate(zip(axes.flat, y_true, y_pred, titles)):\n",
    "    cm = confusion_matrix(y_t, y_p)\n",
    "    sns.heatmap(cm, annot=True, square=True,\n",
    "                xticklabels=['False', 'True'],\n",
    "                yticklabels=['False', 'True'],\n",
    "                fmt='g', cmap='flare', ax=ax, cbar=False, annot_kws={\"size\": 24})\n",
    "    ax.set_xlabel('Predicted')\n",
    "    ax.set_ylabel('Actual')\n",
    "    ax.set_title(f'{i + 1}. {title}')\n",
    "plt.show()\n",
    "\n",
    "for i, (y_t, y_p, title) in enumerate(zip(y_true, y_pred, titles)):\n",
    "    print(f'{i + 1}. {title}')\n",
    "    print('-----------------------------')\n",
    "    (tn, fp, fn, tp) = confusion_matrix(y_t, y_p).ravel()\n",
    "    print(f'True Negatives: {tn}')\n",
    "    print(f'False Positives: {fp}')\n",
    "    print(f'True Positives: {tp}')\n",
    "    print(f'False Negatives: {fn}')\n",
    "    print()\n",
    "    print(\n",
    "        f'True Negative Rate (Specificity): {recall_score(y_t, y_p, pos_label=0):.3f}')\n",
    "    print(\n",
    "        f'Positive Predictive Value (Precision): {precision_score(y_t, y_p, zero_division=False):.3f}')\n",
    "    print()\n",
    "    print(\n",
    "        f'True Positive Rate (Recall): {recall_score(y_t, y_p, zero_division=False):.3f}')\n",
    "    fnr = fn/(tp + fn)\n",
    "    print(f'False Negative Rate (Recall Complement): {fnr:.3f}')\n",
    "    print()\n",
    "    # Overall accuracy\n",
    "    print(f'Accuracy: {accuracy_score(y_t, y_p):.3f}')\n",
    "    print()\n"
   ]
  },
  {
   "cell_type": "markdown",
   "metadata": {},
   "source": [
    "False positives affect the TNR (specificity) and the Positive Predictive Value (precision). False negatives, on the other hand, affect the true positive and false negative rates, otherwise known as the recall and its complement.\n",
    "\n",
    "Let's move on to evaluating the `SGDClassifier` we built for the MNIST dataset that classifies images as either fives or not fives.\n",
    "\n",
    "# MNIST Dataset\n",
    "\n",
    "---\n",
    "\n",
    "To compute a confusion matrix, we need to obtain a set of predictions on the training data. We use the training data to obtain predictions since we should only use the evaluation split for final evaluations. We can use the `cross_val_predict` method from `sklearn` to get the predictions for the `sgd_clf` we created.\n"
   ]
  },
  {
   "cell_type": "code",
   "execution_count": 197,
   "metadata": {},
   "outputs": [],
   "source": [
    "%store -r sgd_clf\n",
    "%store -r X_train\n",
    "%store -r y_train_5\n",
    "\n",
    "y_train_pred = cross_val_predict(sgd_clf, X_train, y_train_5, cv=3)"
   ]
  },
  {
   "cell_type": "markdown",
   "metadata": {},
   "source": [
    "`y_train_pred` contains an array of true and false values, indicating whether or not the classifier predicts a given sample to be a five."
   ]
  },
  {
   "cell_type": "code",
   "execution_count": 198,
   "metadata": {},
   "outputs": [
    {
     "data": {
      "text/plain": [
       "array([False, False, False, False, False, False, False, False,  True,\n",
       "       False])"
      ]
     },
     "execution_count": 198,
     "metadata": {},
     "output_type": "execute_result"
    }
   ],
   "source": [
    "y_train_pred[:10]"
   ]
  },
  {
   "cell_type": "markdown",
   "metadata": {},
   "source": [
    "Let's build the confusion matrix."
   ]
  },
  {
   "cell_type": "code",
   "execution_count": 199,
   "metadata": {},
   "outputs": [
    {
     "data": {
      "text/plain": [
       "array([[53124,  1455],\n",
       "       [  949,  4472]], dtype=int64)"
      ]
     },
     "execution_count": 199,
     "metadata": {},
     "output_type": "execute_result"
    }
   ],
   "source": [
    "confusion_matrix(y_train_5, y_train_pred)"
   ]
  },
  {
   "cell_type": "markdown",
   "metadata": {},
   "source": [
    "We can use the `seaborn` package to make the confusion matrix easier to read."
   ]
  },
  {
   "cell_type": "code",
   "execution_count": 200,
   "metadata": {},
   "outputs": [
    {
     "data": {
      "image/png": "[encoded data removed]",
      "text/plain": [
       "<Figure size 720x576 with 2 Axes>"
      ]
     },
     "metadata": {
      "needs_background": "light"
     },
     "output_type": "display_data"
    }
   ],
   "source": [
    "fig, ax = plt.subplots(1, 1, figsize=(10, 8))\n",
    "cm = confusion_matrix(y_train_5, y_train_pred)\n",
    "ax = sns.heatmap(cm, annot=True, square=True, xticklabels=[\n",
    "                 'False', 'True'], yticklabels=['False', 'True'],\n",
    "                 fmt='g', cmap=\"flare\", annot_kws={\"size\": 24})\n",
    "ax.set_xlabel('Predicted')\n",
    "ax.set_ylabel('Actual')\n",
    "ax.set_title('Confusion Matrix for SGDClassifier Built on MNIST Dataset')\n",
    "plt.show()"
   ]
  },
  {
   "cell_type": "markdown",
   "metadata": {},
   "source": [
    "The classifier correctly identified 53,124 images as non-fives (_true negatives_). The remaining 1,455 were wrongly classified as fives (_false positives_). The second row reveals that 949 real fives were incorrectly classified as non-fives (_false negatives_), while the remaining 4,472 were correctly classified as fives (_true positives_).\n",
    "\n",
    "Let's calculate the remaining metrics."
   ]
  },
  {
   "cell_type": "code",
   "execution_count": 201,
   "metadata": {},
   "outputs": [
    {
     "name": "stdout",
     "output_type": "stream",
     "text": [
      "True Negatives: 53124\n",
      "False Positives: 1455\n",
      "True Positives: 4472\n",
      "False Negatives: 949\n",
      "\n",
      "True Negative Rate (Specificity): 0.973\n",
      "Positive Predictive Value (Precision): 0.755\n",
      "\n",
      "True Positive Rate (Recall): 0.825\n",
      "False Negative Rate (Recall Complement): 0.175\n",
      "\n",
      "Accuracy: 0.960\n",
      "\n"
     ]
    }
   ],
   "source": [
    "tn, fp, fn, tp = confusion_matrix(\n",
    "    y_true=y_train_5, y_pred=y_train_pred).ravel()\n",
    "\n",
    "print(f'True Negatives: {tn}')\n",
    "print(f'False Positives: {fp}')\n",
    "print(f'True Positives: {tp}')\n",
    "print(f'False Negatives: {fn}')\n",
    "print()\n",
    "print(\n",
    "    f'True Negative Rate (Specificity): {recall_score(y_train_5, y_train_pred, pos_label=0):.3f}')\n",
    "print(\n",
    "    f'Positive Predictive Value (Precision): {precision_score(y_train_5, y_train_pred, zero_division=False):.3f}')\n",
    "print()\n",
    "print(\n",
    "    f'True Positive Rate (Recall): {recall_score(y_train_5, y_train_pred, zero_division=False):.3f}')\n",
    "fnr = fn/(tp + fn)\n",
    "print(f'False Negative Rate (Recall Complement): {fnr:.3f}')\n",
    "print()\n",
    "# Overall accuracy\n",
    "print(f'Accuracy: {accuracy_score(y_train_5, y_train_pred):.3f}')\n",
    "print()"
   ]
  },
  {
   "cell_type": "markdown",
   "metadata": {},
   "source": [
    "The precision indicates that when the classifier picks a five, it is right about 75.5% of the time. The recall demonstrates that the classifier detects 82.5% of the 5s. Let's compare this with a baseline classifier, using a different technique to create the classifier.\n",
    "\n",
    "# Baseline Classifier on MNIST Dataset\n",
    "\n",
    "---"
   ]
  },
  {
   "cell_type": "code",
   "execution_count": 202,
   "metadata": {},
   "outputs": [
    {
     "data": {
      "image/png": "[encoded data removed]",
      "text/plain": [
       "<Figure size 720x576 with 2 Axes>"
      ]
     },
     "metadata": {
      "needs_background": "light"
     },
     "output_type": "display_data"
    }
   ],
   "source": [
    "# Create the class\n",
    "class Never5Classifier(BaseEstimator):\n",
    "    def fit(self, X, y=None):\n",
    "        pass\n",
    "    def predict(self, X):\n",
    "        return np.zeros((len(X), 1), dtype=bool)\n",
    "\n",
    "# Instantiate and create predictions\n",
    "never_5_clf = Never5Classifier()\n",
    "y_train_never_5_pred = cross_val_predict(never_5_clf, X_train, y_train_5, cv=3)\n",
    "\n",
    "# Draw the confusion matrix \n",
    "fig, ax = plt.subplots(1, 1, figsize=(10, 8))\n",
    "cm = confusion_matrix(y_train_5, y_train_never_5_pred)\n",
    "ax = sns.heatmap(cm, annot=True, square=True, xticklabels=[\n",
    "                 'False', 'True'], yticklabels=['False', 'True'],\n",
    "                 fmt='g', cmap=\"flare\", annot_kws={\"size\": 24})\n",
    "ax.set_xlabel('Predicted')\n",
    "ax.set_ylabel('Actual')\n",
    "ax.set_title('Confusion Matrix for Baseline Estimator Built on MNIST Dataset')\n",
    "plt.show()"
   ]
  },
  {
   "cell_type": "markdown",
   "metadata": {},
   "source": [
    "We never predict any fives. Let's check the metrics."
   ]
  },
  {
   "cell_type": "code",
   "execution_count": 203,
   "metadata": {},
   "outputs": [
    {
     "name": "stdout",
     "output_type": "stream",
     "text": [
      "True Negatives: 54579\n",
      "False Positives: 0\n",
      "True Positives: 0\n",
      "False Negatives: 5421\n",
      "\n",
      "True Negative Rate (Specificity): 1.000\n",
      "Positive Predictive Value (Precision): 0.000\n",
      "\n",
      "True Positive Rate (Recall): 0.000\n",
      "False Negative Rate (Recall Complement): 1.000\n",
      "\n",
      "Accuracy: 0.910\n",
      "\n"
     ]
    }
   ],
   "source": [
    "# Calculate statistics\n",
    "tn, fp, fn, tp = confusion_matrix(\n",
    "    y_true=y_train_5, y_pred=y_train_never_5_pred).ravel()\n",
    "\n",
    "print(f'True Negatives: {tn}')\n",
    "print(f'False Positives: {fp}')\n",
    "print(f'True Positives: {tp}')\n",
    "print(f'False Negatives: {fn}')\n",
    "print()\n",
    "print(\n",
    "    f'True Negative Rate (Specificity): {recall_score(y_train_5, y_train_never_5_pred, pos_label=0):.3f}')\n",
    "print(\n",
    "    f'Positive Predictive Value (Precision): {precision_score(y_train_5, y_train_never_5_pred, zero_division=False):.3f}')\n",
    "print()\n",
    "print(\n",
    "    f'True Positive Rate (Recall): {recall_score(y_train_5, y_train_never_5_pred, zero_division=False):.3f}')\n",
    "fnr = fn/(tp + fn)\n",
    "print(f'False Negative Rate (Recall Complement): {fnr:.3f}')\n",
    "print()\n",
    "# Overall accuracy\n",
    "print(f'Accuracy: {accuracy_score(y_train_5, y_train_never_5_pred):.3f}')\n",
    "print()"
   ]
  },
  {
   "cell_type": "markdown",
   "metadata": {},
   "source": [
    "These metrics show why the accuracy can be misleading when evaluating classifiers. We'll draw confusion matrices for multi-class classification problems in the next post."
   ]
  }
 ],
 "metadata": {
  "kernelspec": {
   "display_name": "Python 3.9.0 64-bit ('3.9.0')",
   "language": "python",
   "name": "python3"
  },
  "language_info": {
   "codemirror_mode": {
    "name": "ipython",
    "version": 3
   },
   "file_extension": ".py",
   "mimetype": "text/x-python",
   "name": "python",
   "nbconvert_exporter": "python",
   "pygments_lexer": "ipython3",
   "version": "3.9.0"
  },
  "orig_nbformat": 4,
  "vscode": {
   "interpreter": {
    "hash": "3fe900b466f292f4cbc35e05862ed7935ccda66699503d09b7e70e5c7d339eb0"
   }
  }
 },
 "nbformat": 4,
 "nbformat_minor": 2
}
