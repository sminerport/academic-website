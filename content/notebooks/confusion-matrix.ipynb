{
 "cells": [
  {
   "cell_type": "markdown",
   "metadata": {},
   "source": [
    "# Confusion Matrices\n",
    "\n",
    "---\n",
    "\n",
    "In the [last post](https://scottminer.netlify.app/post/cross-validation/), we used stratified *k*-fold cross-validation to evaluate the accuracy of the `SGDClassifier` we built that classifies images from the MNIST dataset as either fives or non-fives. However, as we will learn in this post, confusion matrices are often better at evaluating classifiers, especially when dealing with unbalanced datasets because, as we learned in the last post, the accuracy metric can be misleading. If only 10% of the images are not 5, a classifier that always predicts not a five will produce an accuracy score of 90%. However, it never correctly classifies any target class instances or, in this case, the number five.\n",
    "\n",
    "To compute confusion matrices, we need to obtain a set of predictions on the training data set. The test or evaluation dataset should only be used for a final evaluation. To get these predictions, we can use the `cross_val_predict()` method of `sklearn.`\n"
   ]
  },
  {
   "cell_type": "markdown",
   "metadata": {},
   "source": [
    "## Baseline Classifier\n",
    "\n",
    "---\n"
   ]
  },
  {
   "cell_type": "code",
   "execution_count": 1,
   "metadata": {},
   "outputs": [],
   "source": [
    "from imports.mlwpy import *\n",
    "%matplotlib inline"
   ]
  },
  {
   "cell_type": "markdown",
   "metadata": {},
   "source": [
    "### Load Iris Dataset\n",
    "\n",
    "---"
   ]
  },
  {
   "cell_type": "code",
   "execution_count": 2,
   "metadata": {},
   "outputs": [],
   "source": [
    "from sklearn.model_selection import train_test_split\n",
    "from sklearn import datasets\n",
    "\n",
    "iris = datasets.load_iris()\n",
    "\n",
    "tts = train_test_split(iris.data, iris.target, test_size=.33, random_state=21)\n",
    "\n",
    "(iris_train_ftrs, iris_test_ftrs,\n",
    "iris_train_tgt, iris_test_tgt) = tts"
   ]
  },
  {
   "cell_type": "code",
   "execution_count": 3,
   "metadata": {},
   "outputs": [
    {
     "data": {
      "text/plain": [
       "array([[6.9, 3.1, 4.9, 1.5],\n",
       "       [5. , 3.3, 1.4, 0.2],\n",
       "       [6.7, 3.1, 4.4, 1.4],\n",
       "       [7.7, 2.6, 6.9, 2.3],\n",
       "       [5.7, 2.8, 4.5, 1.3],\n",
       "       [5.8, 2.7, 4.1, 1. ],\n",
       "       [4.6, 3.1, 1.5, 0.2],\n",
       "       [5.1, 3.5, 1.4, 0.3],\n",
       "       [7.7, 3. , 6.1, 2.3],\n",
       "       [4.7, 3.2, 1.6, 0.2]])"
      ]
     },
     "execution_count": 3,
     "metadata": {},
     "output_type": "execute_result"
    }
   ],
   "source": [
    "iris_train_ftrs[:10]"
   ]
  },
  {
   "cell_type": "code",
   "execution_count": 4,
   "metadata": {},
   "outputs": [
    {
     "data": {
      "text/plain": [
       "array([1, 0, 1, 2, 1, 1, 0, 0, 2, 0])"
      ]
     },
     "execution_count": 4,
     "metadata": {},
     "output_type": "execute_result"
    }
   ],
   "source": [
    "iris_train_tgt[:10]"
   ]
  },
  {
   "cell_type": "code",
   "execution_count": 5,
   "metadata": {},
   "outputs": [
    {
     "data": {
      "text/plain": [
       "array([[5.8, 2.6, 4. , 1.2],\n",
       "       [5.1, 3.8, 1.9, 0.4],\n",
       "       [5. , 3.4, 1.5, 0.2],\n",
       "       [5.1, 3.7, 1.5, 0.4],\n",
       "       [5.7, 3. , 4.2, 1.2],\n",
       "       [6.6, 3. , 4.4, 1.4],\n",
       "       [5.4, 3.4, 1.7, 0.2],\n",
       "       [5.6, 2.8, 4.9, 2. ],\n",
       "       [5. , 3.4, 1.6, 0.4],\n",
       "       [5.1, 3.8, 1.5, 0.3]])"
      ]
     },
     "execution_count": 5,
     "metadata": {},
     "output_type": "execute_result"
    }
   ],
   "source": [
    "iris_test_ftrs[:10]"
   ]
  },
  {
   "cell_type": "code",
   "execution_count": 6,
   "metadata": {},
   "outputs": [
    {
     "data": {
      "text/plain": [
       "array([1, 0, 0, 0, 1, 1, 0, 2, 0, 0])"
      ]
     },
     "execution_count": 6,
     "metadata": {},
     "output_type": "execute_result"
    }
   ],
   "source": [
    "iris_test_tgt[:10]"
   ]
  },
  {
   "cell_type": "markdown",
   "metadata": {},
   "source": [
    "In `sklearn,` baseline methods are known as dummy methods and represent the most basic estimators we can conceive. Let's imagine four levels of learning systems. \n",
    "\n",
    "1. Baseline methods - predictions based on simple statistics or random guesses\n",
    "2. Simple off-the-shelf learning methods -predictors that are generally less resource-intensive\n",
    "3. Complex off-the-shelf learning methods - predictors that are generally more resource-intensive\n",
    "4. Customized, boutique learning methods\n",
    "\n",
    "\n",
    "`sklearn` provides four baseline classification methods. Each method makes a prediction when given a test example. There are two **random** baseline methods and two that return **constant** values. The random methods flip coins to make predictions for examples, whereas the constant methods always predict the same thing.\n",
    "\n",
    "The random methods are (1) `uniform,` which chooses evenly among the target classes based on the *number* of classes, and (2) `stratified,` which chooses evenly among the target classes based on the *frequency* of the classes. The two constant methods are (1) `constant,` which returns one target class we've picked out, and (2) `most_frequent,` which returns the single most likely class. `most_frequent` is also available under the name `prior.`\n",
    "\n",
    "The two random methods behave differently when a dataset has rare occurrences, such as a rare disease. The `uniform` method picks evenly, 50%-50%, between sick and healthy people. The `stratified` method determines whether healthy or unhealthy as the target based on the data's percentages of healthy and ill people. Let's look at a simple example of a dummy classifier."
   ]
  },
  {
   "cell_type": "code",
   "execution_count": 7,
   "metadata": {},
   "outputs": [
    {
     "data": {
      "text/html": [
       "<style>#sk-container-id-1 {color: black;background-color: white;}#sk-container-id-1 pre{padding: 0;}#sk-container-id-1 div.sk-toggleable {background-color: white;}#sk-container-id-1 label.sk-toggleable__label {cursor: pointer;display: block;width: 100%;margin-bottom: 0;padding: 0.3em;box-sizing: border-box;text-align: center;}#sk-container-id-1 label.sk-toggleable__label-arrow:before {content: \"▸\";float: left;margin-right: 0.25em;color: #696969;}#sk-container-id-1 label.sk-toggleable__label-arrow:hover:before {color: black;}#sk-container-id-1 div.sk-estimator:hover label.sk-toggleable__label-arrow:before {color: black;}#sk-container-id-1 div.sk-toggleable__content {max-height: 0;max-width: 0;overflow: hidden;text-align: left;background-color: #f0f8ff;}#sk-container-id-1 div.sk-toggleable__content pre {margin: 0.2em;color: black;border-radius: 0.25em;background-color: #f0f8ff;}#sk-container-id-1 input.sk-toggleable__control:checked~div.sk-toggleable__content {max-height: 200px;max-width: 100%;overflow: auto;}#sk-container-id-1 input.sk-toggleable__control:checked~label.sk-toggleable__label-arrow:before {content: \"▾\";}#sk-container-id-1 div.sk-estimator input.sk-toggleable__control:checked~label.sk-toggleable__label {background-color: #d4ebff;}#sk-container-id-1 div.sk-label input.sk-toggleable__control:checked~label.sk-toggleable__label {background-color: #d4ebff;}#sk-container-id-1 input.sk-hidden--visually {border: 0;clip: rect(1px 1px 1px 1px);clip: rect(1px, 1px, 1px, 1px);height: 1px;margin: -1px;overflow: hidden;padding: 0;position: absolute;width: 1px;}#sk-container-id-1 div.sk-estimator {font-family: monospace;background-color: #f0f8ff;border: 1px dotted black;border-radius: 0.25em;box-sizing: border-box;margin-bottom: 0.5em;}#sk-container-id-1 div.sk-estimator:hover {background-color: #d4ebff;}#sk-container-id-1 div.sk-parallel-item::after {content: \"\";width: 100%;border-bottom: 1px solid gray;flex-grow: 1;}#sk-container-id-1 div.sk-label:hover label.sk-toggleable__label {background-color: #d4ebff;}#sk-container-id-1 div.sk-serial::before {content: \"\";position: absolute;border-left: 1px solid gray;box-sizing: border-box;top: 0;bottom: 0;left: 50%;z-index: 0;}#sk-container-id-1 div.sk-serial {display: flex;flex-direction: column;align-items: center;background-color: white;padding-right: 0.2em;padding-left: 0.2em;position: relative;}#sk-container-id-1 div.sk-item {position: relative;z-index: 1;}#sk-container-id-1 div.sk-parallel {display: flex;align-items: stretch;justify-content: center;background-color: white;position: relative;}#sk-container-id-1 div.sk-item::before, #sk-container-id-1 div.sk-parallel-item::before {content: \"\";position: absolute;border-left: 1px solid gray;box-sizing: border-box;top: 0;bottom: 0;left: 50%;z-index: -1;}#sk-container-id-1 div.sk-parallel-item {display: flex;flex-direction: column;z-index: 1;position: relative;background-color: white;}#sk-container-id-1 div.sk-parallel-item:first-child::after {align-self: flex-end;width: 50%;}#sk-container-id-1 div.sk-parallel-item:last-child::after {align-self: flex-start;width: 50%;}#sk-container-id-1 div.sk-parallel-item:only-child::after {width: 0;}#sk-container-id-1 div.sk-dashed-wrapped {border: 1px dashed gray;margin: 0 0.4em 0.5em 0.4em;box-sizing: border-box;padding-bottom: 0.4em;background-color: white;}#sk-container-id-1 div.sk-label label {font-family: monospace;font-weight: bold;display: inline-block;line-height: 1.2em;}#sk-container-id-1 div.sk-label-container {text-align: center;}#sk-container-id-1 div.sk-container {/* jupyter's `normalize.less` sets `[hidden] { display: none; }` but bootstrap.min.css set `[hidden] { display: none !important; }` so we also need the `!important` here to be able to override the default hidden behavior on the sphinx rendered scikit-learn.org. See: https://github.com/scikit-learn/scikit-learn/issues/21755 */display: inline-block !important;position: relative;}#sk-container-id-1 div.sk-text-repr-fallback {display: none;}</style><div id=\"sk-container-id-1\" class=\"sk-top-container\"><div class=\"sk-text-repr-fallback\"><pre>DummyClassifier(strategy=&#x27;most_frequent&#x27;)</pre><b>In a Jupyter environment, please rerun this cell to show the HTML representation or trust the notebook. <br />On GitHub, the HTML representation is unable to render, please try loading this page with nbviewer.org.</b></div><div class=\"sk-container\" hidden><div class=\"sk-item\"><div class=\"sk-estimator sk-toggleable\"><input class=\"sk-toggleable__control sk-hidden--visually\" id=\"sk-estimator-id-1\" type=\"checkbox\" checked><label for=\"sk-estimator-id-1\" class=\"sk-toggleable__label sk-toggleable__label-arrow\">DummyClassifier</label><div class=\"sk-toggleable__content\"><pre>DummyClassifier(strategy=&#x27;most_frequent&#x27;)</pre></div></div></div></div></div>"
      ],
      "text/plain": [
       "DummyClassifier(strategy='most_frequent')"
      ]
     },
     "execution_count": 7,
     "metadata": {},
     "output_type": "execute_result"
    }
   ],
   "source": [
    "import numpy as np\n",
    "from sklearn.dummy import DummyClassifier\n",
    "\n",
    "X = np.array([-1, 1, 1, 1])\n",
    "y = np.array([0, 1, 1, 1])\n",
    "\n",
    "dummy_clf = DummyClassifier(strategy=\"most_frequent\")\n",
    "dummy_clf.fit(X, y)"
   ]
  },
  {
   "cell_type": "code",
   "execution_count": 8,
   "metadata": {},
   "outputs": [
    {
     "data": {
      "text/plain": [
       "array([1, 1, 1, 1])"
      ]
     },
     "execution_count": 8,
     "metadata": {},
     "output_type": "execute_result"
    }
   ],
   "source": [
    "dummy_clf.predict(X)"
   ]
  },
  {
   "cell_type": "code",
   "execution_count": 9,
   "metadata": {},
   "outputs": [
    {
     "data": {
      "text/plain": [
       "0.75"
      ]
     },
     "execution_count": 9,
     "metadata": {},
     "output_type": "execute_result"
    }
   ],
   "source": [
    "dummy_clf.score(X, y)"
   ]
  },
  {
   "cell_type": "markdown",
   "metadata": {},
   "source": [
    "Let's expand this example to the Iris dataset."
   ]
  },
  {
   "cell_type": "code",
   "execution_count": 10,
   "metadata": {},
   "outputs": [
    {
     "name": "stdout",
     "output_type": "stream",
     "text": [
      "[[ 0 32]\n",
      " [ 1 33]\n",
      " [ 2 35]]\n"
     ]
    },
    {
     "data": {
      "image/png": "[encoded data removed]",
      "text/plain": [
       "<Figure size 432x288 with 1 Axes>"
      ]
     },
     "metadata": {
      "needs_background": "light"
     },
     "output_type": "display_data"
    }
   ],
   "source": [
    "import numpy as np\n",
    "import matplotlib as mpl\n",
    "import matplotlib.pyplot as plt\n",
    "mpl.rc('axes', labelsize=14)\n",
    "mpl.rc('xtick', labelsize=12)\n",
    "mpl.rc('ytick', labelsize=12)\n",
    "%matplotlib inline\n",
    "values, counts = np.unique(iris_train_tgt, return_counts=True)\n",
    "print(np.c_[values, counts])\n",
    "bars = plt.bar(values, counts)\n",
    "plt.title(\"Count of target variable in Iris Dataset\")\n",
    "plt.xlabel(\"Class\")\n",
    "plt.ylabel(\"Counts\")\n",
    "labels = ['Iris Setosa (\"0\")', 'Iris Versicolour (\"1\")', 'Iris Virginica (\"2\")']\n",
    "plt.xticks(values, labels, rotation=9)\n",
    "plt.bar_label(bars, label_type=\"edge\")\n",
    "plt.ylim(0, 40)\n",
    "plt.tight_layout()\n",
    "plt.show()"
   ]
  },
  {
   "cell_type": "code",
   "execution_count": 11,
   "metadata": {},
   "outputs": [
    {
     "data": {
      "text/html": [
       "<style>#sk-container-id-2 {color: black;background-color: white;}#sk-container-id-2 pre{padding: 0;}#sk-container-id-2 div.sk-toggleable {background-color: white;}#sk-container-id-2 label.sk-toggleable__label {cursor: pointer;display: block;width: 100%;margin-bottom: 0;padding: 0.3em;box-sizing: border-box;text-align: center;}#sk-container-id-2 label.sk-toggleable__label-arrow:before {content: \"▸\";float: left;margin-right: 0.25em;color: #696969;}#sk-container-id-2 label.sk-toggleable__label-arrow:hover:before {color: black;}#sk-container-id-2 div.sk-estimator:hover label.sk-toggleable__label-arrow:before {color: black;}#sk-container-id-2 div.sk-toggleable__content {max-height: 0;max-width: 0;overflow: hidden;text-align: left;background-color: #f0f8ff;}#sk-container-id-2 div.sk-toggleable__content pre {margin: 0.2em;color: black;border-radius: 0.25em;background-color: #f0f8ff;}#sk-container-id-2 input.sk-toggleable__control:checked~div.sk-toggleable__content {max-height: 200px;max-width: 100%;overflow: auto;}#sk-container-id-2 input.sk-toggleable__control:checked~label.sk-toggleable__label-arrow:before {content: \"▾\";}#sk-container-id-2 div.sk-estimator input.sk-toggleable__control:checked~label.sk-toggleable__label {background-color: #d4ebff;}#sk-container-id-2 div.sk-label input.sk-toggleable__control:checked~label.sk-toggleable__label {background-color: #d4ebff;}#sk-container-id-2 input.sk-hidden--visually {border: 0;clip: rect(1px 1px 1px 1px);clip: rect(1px, 1px, 1px, 1px);height: 1px;margin: -1px;overflow: hidden;padding: 0;position: absolute;width: 1px;}#sk-container-id-2 div.sk-estimator {font-family: monospace;background-color: #f0f8ff;border: 1px dotted black;border-radius: 0.25em;box-sizing: border-box;margin-bottom: 0.5em;}#sk-container-id-2 div.sk-estimator:hover {background-color: #d4ebff;}#sk-container-id-2 div.sk-parallel-item::after {content: \"\";width: 100%;border-bottom: 1px solid gray;flex-grow: 1;}#sk-container-id-2 div.sk-label:hover label.sk-toggleable__label {background-color: #d4ebff;}#sk-container-id-2 div.sk-serial::before {content: \"\";position: absolute;border-left: 1px solid gray;box-sizing: border-box;top: 0;bottom: 0;left: 50%;z-index: 0;}#sk-container-id-2 div.sk-serial {display: flex;flex-direction: column;align-items: center;background-color: white;padding-right: 0.2em;padding-left: 0.2em;position: relative;}#sk-container-id-2 div.sk-item {position: relative;z-index: 1;}#sk-container-id-2 div.sk-parallel {display: flex;align-items: stretch;justify-content: center;background-color: white;position: relative;}#sk-container-id-2 div.sk-item::before, #sk-container-id-2 div.sk-parallel-item::before {content: \"\";position: absolute;border-left: 1px solid gray;box-sizing: border-box;top: 0;bottom: 0;left: 50%;z-index: -1;}#sk-container-id-2 div.sk-parallel-item {display: flex;flex-direction: column;z-index: 1;position: relative;background-color: white;}#sk-container-id-2 div.sk-parallel-item:first-child::after {align-self: flex-end;width: 50%;}#sk-container-id-2 div.sk-parallel-item:last-child::after {align-self: flex-start;width: 50%;}#sk-container-id-2 div.sk-parallel-item:only-child::after {width: 0;}#sk-container-id-2 div.sk-dashed-wrapped {border: 1px dashed gray;margin: 0 0.4em 0.5em 0.4em;box-sizing: border-box;padding-bottom: 0.4em;background-color: white;}#sk-container-id-2 div.sk-label label {font-family: monospace;font-weight: bold;display: inline-block;line-height: 1.2em;}#sk-container-id-2 div.sk-label-container {text-align: center;}#sk-container-id-2 div.sk-container {/* jupyter's `normalize.less` sets `[hidden] { display: none; }` but bootstrap.min.css set `[hidden] { display: none !important; }` so we also need the `!important` here to be able to override the default hidden behavior on the sphinx rendered scikit-learn.org. See: https://github.com/scikit-learn/scikit-learn/issues/21755 */display: inline-block !important;position: relative;}#sk-container-id-2 div.sk-text-repr-fallback {display: none;}</style><div id=\"sk-container-id-2\" class=\"sk-top-container\"><div class=\"sk-text-repr-fallback\"><pre>DummyClassifier(strategy=&#x27;most_frequent&#x27;)</pre><b>In a Jupyter environment, please rerun this cell to show the HTML representation or trust the notebook. <br />On GitHub, the HTML representation is unable to render, please try loading this page with nbviewer.org.</b></div><div class=\"sk-container\" hidden><div class=\"sk-item\"><div class=\"sk-estimator sk-toggleable\"><input class=\"sk-toggleable__control sk-hidden--visually\" id=\"sk-estimator-id-2\" type=\"checkbox\" checked><label for=\"sk-estimator-id-2\" class=\"sk-toggleable__label sk-toggleable__label-arrow\">DummyClassifier</label><div class=\"sk-toggleable__content\"><pre>DummyClassifier(strategy=&#x27;most_frequent&#x27;)</pre></div></div></div></div></div>"
      ],
      "text/plain": [
       "DummyClassifier(strategy='most_frequent')"
      ]
     },
     "execution_count": 11,
     "metadata": {},
     "output_type": "execute_result"
    }
   ],
   "source": [
    "from sklearn.dummy import DummyClassifier\n",
    "from sklearn.metrics import accuracy_score\n",
    "\n",
    "# Create the baseline classifier using the most_frequent strategy\n",
    "baseline = DummyClassifier(strategy=\"most_frequent\")\n",
    "baseline"
   ]
  },
  {
   "cell_type": "code",
   "execution_count": 12,
   "metadata": {},
   "outputs": [
    {
     "name": "stdout",
     "output_type": "stream",
     "text": [
      "50\n",
      "[2 2 2 2 2 2 2 2 2 2 2 2 2 2 2 2 2 2 2 2 2 2 2 2 2 2 2 2 2 2 2 2 2 2 2 2 2\n",
      " 2 2 2 2 2 2 2 2 2 2 2 2 2]\n"
     ]
    }
   ],
   "source": [
    "baseline.fit(iris_train_ftrs, iris_train_tgt)\n",
    "base_preds = baseline.predict(iris_test_ftrs)\n",
    "print(len(base_preds))\n",
    "print(base_preds)"
   ]
  },
  {
   "cell_type": "code",
   "execution_count": 13,
   "metadata": {},
   "outputs": [
    {
     "name": "stdout",
     "output_type": "stream",
     "text": [
      "0.3\n"
     ]
    }
   ],
   "source": [
    "base_acc = accuracy_score(base_preds, iris_test_tgt)\n",
    "print(base_acc)"
   ]
  },
  {
   "cell_type": "markdown",
   "metadata": {},
   "source": [
    "Let's compare the performance of the simple baseline strategies against each other:"
   ]
  },
  {
   "cell_type": "code",
   "execution_count": 14,
   "metadata": {},
   "outputs": [
    {
     "data": {
      "text/html": [
       "<div>\n",
       "<style scoped>\n",
       "    .dataframe tbody tr th:only-of-type {\n",
       "        vertical-align: middle;\n",
       "    }\n",
       "\n",
       "    .dataframe tbody tr th {\n",
       "        vertical-align: top;\n",
       "    }\n",
       "\n",
       "    .dataframe thead th {\n",
       "        text-align: right;\n",
       "    }\n",
       "</style>\n",
       "<table border=\"1\" class=\"dataframe\">\n",
       "  <thead>\n",
       "    <tr style=\"text-align: right;\">\n",
       "      <th></th>\n",
       "      <th>accuracy</th>\n",
       "    </tr>\n",
       "  </thead>\n",
       "  <tbody>\n",
       "    <tr>\n",
       "      <th>constant</th>\n",
       "      <td>0.3600</td>\n",
       "    </tr>\n",
       "    <tr>\n",
       "      <th>uniform</th>\n",
       "      <td>0.3800</td>\n",
       "    </tr>\n",
       "    <tr>\n",
       "      <th>stratified</th>\n",
       "      <td>0.3400</td>\n",
       "    </tr>\n",
       "    <tr>\n",
       "      <th>prior</th>\n",
       "      <td>0.3000</td>\n",
       "    </tr>\n",
       "    <tr>\n",
       "      <th>most_frequent</th>\n",
       "      <td>0.3000</td>\n",
       "    </tr>\n",
       "  </tbody>\n",
       "</table>\n",
       "</div>"
      ],
      "text/latex": [
       "{\\centering\n",
       "\\begin{tabular}{lr}\n",
       "\\toprule\n",
       "{} &             accuracy \\\\\n",
       "\\midrule\n",
       "constant      &               0.3600 \\\\\n",
       "uniform       &               0.3800 \\\\\n",
       "stratified    &               0.3400 \\\\\n",
       "prior         &               0.3000 \\\\\n",
       "most\\_frequent &               0.3000 \\\\\n",
       "\\bottomrule\n",
       "\\end{tabular}\n",
       "\n",
       "\\medskip}"
      ],
      "text/plain": [
       "                          accuracy\n",
       "constant                    0.3600\n",
       "uniform                     0.3800\n",
       "stratified                  0.3400\n",
       "prior                       0.3000\n",
       "most_frequent               0.3000"
      ]
     },
     "metadata": {},
     "output_type": "display_data"
    }
   ],
   "source": [
    "strategies = ['constant', 'uniform', 'stratified', 'prior', 'most_frequent']\n",
    "\n",
    "# set up args to create different DummyClassifier strategies\n",
    "baseline_args = [{'strategy':s} for s in strategies]\n",
    "\n",
    "baseline_args[0]['constant'] = 0 # class 0 is setosa\n",
    "baseline_args\n",
    "accuracies = []\n",
    "for bla in baseline_args:\n",
    "  baseline = DummyClassifier(**bla)\n",
    "  baseline.fit(iris_train_ftrs, iris_train_tgt)\n",
    "  base_preds = baseline.predict(iris_test_ftrs)\n",
    "  accuracies.append(accuracy_score(base_preds, iris_test_tgt))\n",
    "\n",
    "display(pd.DataFrame({'accuracy': accuracies}, index=strategies))"
   ]
  },
  {
   "cell_type": "markdown",
   "metadata": {},
   "source": [
    "## MNIST Dataset\n",
    "\n",
    "Let's do the same using the MNIST dataset."
   ]
  },
  {
   "cell_type": "code",
   "execution_count": 15,
   "metadata": {},
   "outputs": [
    {
     "data": {
      "text/html": [
       "<div>\n",
       "<style scoped>\n",
       "    .dataframe tbody tr th:only-of-type {\n",
       "        vertical-align: middle;\n",
       "    }\n",
       "\n",
       "    .dataframe tbody tr th {\n",
       "        vertical-align: top;\n",
       "    }\n",
       "\n",
       "    .dataframe thead th {\n",
       "        text-align: right;\n",
       "    }\n",
       "</style>\n",
       "<table border=\"1\" class=\"dataframe\">\n",
       "  <thead>\n",
       "    <tr style=\"text-align: right;\">\n",
       "      <th></th>\n",
       "      <th>accuracy</th>\n",
       "    </tr>\n",
       "  </thead>\n",
       "  <tbody>\n",
       "    <tr>\n",
       "      <th>constant</th>\n",
       "      <td>0.9108</td>\n",
       "    </tr>\n",
       "    <tr>\n",
       "      <th>uniform</th>\n",
       "      <td>0.5018</td>\n",
       "    </tr>\n",
       "    <tr>\n",
       "      <th>stratified</th>\n",
       "      <td>0.8361</td>\n",
       "    </tr>\n",
       "    <tr>\n",
       "      <th>prior</th>\n",
       "      <td>0.9108</td>\n",
       "    </tr>\n",
       "    <tr>\n",
       "      <th>most_frequent</th>\n",
       "      <td>0.9108</td>\n",
       "    </tr>\n",
       "  </tbody>\n",
       "</table>\n",
       "</div>"
      ],
      "text/latex": [
       "{\\centering\n",
       "\\begin{tabular}{lr}\n",
       "\\toprule\n",
       "{} &             accuracy \\\\\n",
       "\\midrule\n",
       "constant      &               0.9108 \\\\\n",
       "uniform       &               0.5018 \\\\\n",
       "stratified    &               0.8361 \\\\\n",
       "prior         &               0.9108 \\\\\n",
       "most\\_frequent &               0.9108 \\\\\n",
       "\\bottomrule\n",
       "\\end{tabular}\n",
       "\n",
       "\\medskip}"
      ],
      "text/plain": [
       "                          accuracy\n",
       "constant                    0.9108\n",
       "uniform                     0.5018\n",
       "stratified                  0.8361\n",
       "prior                       0.9108\n",
       "most_frequent               0.9108"
      ]
     },
     "metadata": {},
     "output_type": "display_data"
    }
   ],
   "source": [
    "%store -r\n",
    "from sklearn.dummy import DummyClassifier\n",
    "from sklearn.metrics import accuracy_score\n",
    "strategies = ['constant', 'uniform', 'stratified', 'prior', 'most_frequent']\n",
    "\n",
    "# set up args to create different DummyClassifier strategies\n",
    "baseline_args = [{'strategy':s} for s in strategies]\n",
    "\n",
    "baseline_args[0]['constant'] = False\n",
    "baseline_args\n",
    "accuracies = []\n",
    "for bla in baseline_args:\n",
    "  baseline = DummyClassifier(**bla)\n",
    "  baseline.fit(X_train, y_train_5)\n",
    "  base_preds = baseline.predict(X_test)\n",
    "  accuracies.append(accuracy_score(base_preds, y_test_5))\n",
    "\n",
    "display(pd.DataFrame({'accuracy': accuracies}, index=strategies))"
   ]
  },
  {
   "cell_type": "code",
   "execution_count": 16,
   "metadata": {},
   "outputs": [
    {
     "data": {
      "text/html": [
       "<div>\n",
       "<style scoped>\n",
       "    .dataframe tbody tr th:only-of-type {\n",
       "        vertical-align: middle;\n",
       "    }\n",
       "\n",
       "    .dataframe tbody tr th {\n",
       "        vertical-align: top;\n",
       "    }\n",
       "\n",
       "    .dataframe thead th {\n",
       "        text-align: right;\n",
       "    }\n",
       "</style>\n",
       "<table border=\"1\" class=\"dataframe\">\n",
       "  <thead>\n",
       "    <tr style=\"text-align: right;\">\n",
       "      <th></th>\n",
       "      <th>accuracy</th>\n",
       "    </tr>\n",
       "  </thead>\n",
       "  <tbody>\n",
       "    <tr>\n",
       "      <th>constant</th>\n",
       "      <td>0.3600</td>\n",
       "    </tr>\n",
       "    <tr>\n",
       "      <th>uniform</th>\n",
       "      <td>0.3800</td>\n",
       "    </tr>\n",
       "    <tr>\n",
       "      <th>stratified</th>\n",
       "      <td>0.4000</td>\n",
       "    </tr>\n",
       "    <tr>\n",
       "      <th>prior</th>\n",
       "      <td>0.3000</td>\n",
       "    </tr>\n",
       "    <tr>\n",
       "      <th>most_frequent</th>\n",
       "      <td>0.3000</td>\n",
       "    </tr>\n",
       "  </tbody>\n",
       "</table>\n",
       "</div>"
      ],
      "text/latex": [
       "{\\centering\n",
       "\\begin{tabular}{lr}\n",
       "\\toprule\n",
       "{} &             accuracy \\\\\n",
       "\\midrule\n",
       "constant      &               0.3600 \\\\\n",
       "uniform       &               0.3800 \\\\\n",
       "stratified    &               0.4000 \\\\\n",
       "prior         &               0.3000 \\\\\n",
       "most\\_frequent &               0.3000 \\\\\n",
       "\\bottomrule\n",
       "\\end{tabular}\n",
       "\n",
       "\\medskip}"
      ],
      "text/plain": [
       "                          accuracy\n",
       "constant                    0.3600\n",
       "uniform                     0.3800\n",
       "stratified                  0.4000\n",
       "prior                       0.3000\n",
       "most_frequent               0.3000"
      ]
     },
     "metadata": {},
     "output_type": "display_data"
    }
   ],
   "source": [
    "\n",
    "accuracies = []\n",
    "for bla in baseline_args:\n",
    "  baseline = DummyClassifier(**bla)\n",
    "  baseline.fit(iris_train_ftrs, iris_train_tgt)\n",
    "  base_preds = baseline.predict(iris_test_ftrs)\n",
    "  accuracies.append(accuracy_score(base_preds, iris_test_tgt))\n",
    "\n",
    "display(pd.DataFrame({'accuracy': accuracies}, index=strategies))"
   ]
  },
  {
   "cell_type": "code",
   "execution_count": 17,
   "metadata": {},
   "outputs": [],
   "source": [
    "from sklearn.model_selection import cross_val_predict\n",
    "\n",
    "# Import the classifier and training instances\n",
    "%store -r sgd_clf\n",
    "%store -r X_train\n",
    "%store -r y_train_5\n",
    "\n",
    "y_train_pre = cross_val_predict(sgd_clf, X_train, y_train_5, cv=3)"
   ]
  },
  {
   "cell_type": "code",
   "execution_count": 18,
   "metadata": {},
   "outputs": [],
   "source": [
    "import numpy as np\n",
    "\n",
    "\n"
   ]
  },
  {
   "cell_type": "markdown",
   "metadata": {},
   "source": [
    "# Receiver Operating Characteristic (ROC) with cross-validation\n",
    "\n",
    "---"
   ]
  },
  {
   "cell_type": "markdown",
   "metadata": {},
   "source": [
    "The ROC metric can be used to evaluate classifier output quality. The ROC curve typically features the true positive rate on the Y-axis and the false positive rate on the X-axis. The top left corner of the point is the \"ideal\" point, representing a false positive rate of zero and a true positive rate of one. This result is often unrealistic, but a larger area under the curve is usually better. Also, the \"steepness\" of the ROC curve is important since it is ideal to maximize the true positive rate while minimizing the false positive rate.\n",
    "\n",
    "The following shows the ROC response of different datasets created from K-fold cross-validation. Taking all of these cuves we can calculates the mean area under the curve and see the variance of the curve when the training set is split into different subsets, which shows how the classifier output is affected by changes in the training dta, and how different the splits generated by *k*-fold cross-validation afre from one a"
   ]
  },
  {
   "cell_type": "markdown",
   "metadata": {},
   "source": [
    "# Data IO and generation\n",
    "\n",
    "---"
   ]
  },
  {
   "cell_type": "code",
   "execution_count": 19,
   "metadata": {},
   "outputs": [
    {
     "data": {
      "text/plain": [
       "array([[ 5.1   ,  3.5   ,  1.4   , ..., -1.0771, -0.4247, -0.83  ],\n",
       "       [ 4.9   ,  3.    ,  1.4   , ...,  1.4122, -1.3804, -0.5359],\n",
       "       [ 4.7   ,  3.2   ,  1.3   , ...,  0.6588, -0.5969, -0.223 ],\n",
       "       ...,\n",
       "       [ 6.2   ,  2.9   ,  4.3   , ..., -0.8281, -1.4329, -0.6086],\n",
       "       [ 5.1   ,  2.5   ,  3.    , ...,  0.0653, -0.5538, -0.8825],\n",
       "       [ 5.7   ,  2.8   ,  4.1   , ..., -1.0487,  0.3748, -0.9873]])"
      ]
     },
     "execution_count": 19,
     "metadata": {},
     "output_type": "execute_result"
    }
   ],
   "source": [
    "import numpy as np\n",
    "\n",
    "from sklearn import datasets\n",
    "\n",
    "# Import some data to play with\n",
    "iris = datasets.load_iris()\n",
    "X = iris.data\n",
    "y = iris.target\n",
    "\n",
    "X, y = X[y != 2], y[y != 2]\n",
    "n_samples, n_features = X.shape\n",
    "\n",
    "# Add noisy features\n",
    "random_state = np.random.RandomState(0)\n",
    "X = np.c_[X, random_state.randn(n_samples, 200 * n_features)]\n",
    "X"
   ]
  },
  {
   "cell_type": "markdown",
   "metadata": {},
   "source": [
    "## Classification and ROC analysis\n",
    "\n",
    "---\n"
   ]
  },
  {
   "cell_type": "code",
   "execution_count": 20,
   "metadata": {},
   "outputs": [
    {
     "data": {
      "image/png": "[encoded data removed]",
      "text/plain": [
       "<Figure size 432x288 with 1 Axes>"
      ]
     },
     "metadata": {
      "needs_background": "light"
     },
     "output_type": "display_data"
    }
   ],
   "source": [
    "import matplotlib.pyplot as plt\n",
    "\n",
    "from sklearn import svm\n",
    "from sklearn.metrics import auc\n",
    "from sklearn.metrics import RocCurveDisplay\n",
    "from sklearn.model_selection import StratifiedKFold\n",
    "\n",
    "# Run classifier with cross-validation and plot ROC curves\n",
    "cv = StratifiedKFold(n_splits=6)\n",
    "classifier = svm.SVC(kernel=\"linear\", probability=True,\n",
    "                     random_state=random_state)\n",
    "\n",
    "tprs = []\n",
    "aucs = []\n",
    "mean_fpr = np.linspace(0, 1, 100)\n",
    "fig, ax = plt.subplots()\n",
    "for i, (train, test) in enumerate(cv.split(X, y)):\n",
    "    classifier.fit(X[train], y[train])\n",
    "    viz = RocCurveDisplay.from_estimator(\n",
    "        classifier,\n",
    "        X[test],\n",
    "        y[test],\n",
    "        name=\"ROC fold {}\".format(i),\n",
    "        alpha=0.3,\n",
    "        lw=1,\n",
    "        ax=ax,\n",
    "    )\n",
    "    interp_tpr = np.interp(mean_fpr, viz.fpr, viz.tpr)\n",
    "    interp_tpr[0] = 0.0\n",
    "    tprs.append(interp_tpr)\n",
    "    aucs.append(viz.roc_auc)\n",
    "\n",
    "ax.plot([0, 1], [0, 1], linestyle=\"--\", lw=2, color=\"r\", label=\"Chance\", alpha=0.8)\n",
    "\n",
    "mean_tpr = np.mean(tprs, axis=0)\n",
    "mean_tpr[-1] = 1.0\n",
    "mean_auc = auc(mean_fpr, mean_tpr)\n",
    "std_auc = np.std(aucs)\n",
    "ax.plot(\n",
    "  mean_fpr,\n",
    "  mean_tpr,\n",
    "  color=\"b\",\n",
    "  label=r\"Mean ROC (AUC = %0.2f $\\pm$ %0.2f)\" % (mean_auc, std_auc),\n",
    "  lw=2,\n",
    "  alpha=0.8,\n",
    ")\n",
    "\n",
    "std_tpr = np.std(tprs, axis=0)\n",
    "tprs_upper = np.minimum(mean_tpr + std_tpr, 1)\n",
    "tprs_lower = np.maximum(mean_tpr - std_tpr, 0)\n",
    "ax.fill_between(\n",
    "  mean_fpr,\n",
    "  tprs_lower,\n",
    "  tprs_upper,\n",
    "  color=\"grey\",\n",
    "  alpha=0.2,\n",
    "  label=r\"$\\pm$ 1 std. dev.\",\n",
    ")\n",
    "\n",
    "ax.set(\n",
    "  xlim=[-0.05, 1.05],\n",
    "  ylim=[-0.05, 1.05],\n",
    "  title=\"Receiver operating characteristic example\",\n",
    ")\n",
    "ax.legend(loc=\"lower right\")\n",
    "plt.show()\n"
   ]
  },
  {
   "cell_type": "code",
   "execution_count": 21,
   "metadata": {},
   "outputs": [
    {
     "ename": "NameError",
     "evalue": "name 'y_train_pred' is not defined",
     "output_type": "error",
     "traceback": [
      "\u001b[1;31m---------------------------------------------------------------------------\u001b[0m",
      "\u001b[1;31mNameError\u001b[0m                                 Traceback (most recent call last)",
      "\u001b[1;32m~\\AppData\\Local\\Temp/ipykernel_32124/2991290675.py\u001b[0m in \u001b[0;36m<module>\u001b[1;34m\u001b[0m\n\u001b[1;32m----> 1\u001b[1;33m \u001b[0mprint\u001b[0m\u001b[1;33m(\u001b[0m\u001b[1;33m*\u001b[0m\u001b[1;33m[\u001b[0m\u001b[0mx\u001b[0m \u001b[1;32mfor\u001b[0m \u001b[0mx\u001b[0m \u001b[1;32min\u001b[0m \u001b[0mdir\u001b[0m\u001b[1;33m(\u001b[0m\u001b[0my_train_pred\u001b[0m\u001b[1;33m)\u001b[0m \u001b[1;32mif\u001b[0m \u001b[1;32mnot\u001b[0m \u001b[0mx\u001b[0m\u001b[1;33m.\u001b[0m\u001b[0mstartswith\u001b[0m\u001b[1;33m(\u001b[0m\u001b[1;34m'__'\u001b[0m\u001b[1;33m)\u001b[0m\u001b[1;33m]\u001b[0m\u001b[1;33m)\u001b[0m\u001b[1;33m\u001b[0m\u001b[1;33m\u001b[0m\u001b[0m\n\u001b[0m",
      "\u001b[1;31mNameError\u001b[0m: name 'y_train_pred' is not defined"
     ]
    }
   ],
   "source": [
    "print(*[x for x in dir(y_train_pred) if not x.startswith('__')])"
   ]
  },
  {
   "cell_type": "markdown",
   "metadata": {},
   "source": [
    "We can now get the confusion matrix using the `confusion_matrix()` function. We pass it the target classes (`y_train_5`) and the predicted classes (`y_train_pred`):"
   ]
  },
  {
   "cell_type": "code",
   "execution_count": null,
   "metadata": {},
   "outputs": [
    {
     "data": {
      "text/plain": [
       "array([[53124,  1455],\n",
       "       [  949,  4472]], dtype=int64)"
      ]
     },
     "execution_count": 12,
     "metadata": {},
     "output_type": "execute_result"
    }
   ],
   "source": [
    "from sklearn.metrics import confusion_matrix\n",
    "confusion_matrix(y_train_5, y_train_pred)"
   ]
  },
  {
   "cell_type": "markdown",
   "metadata": {},
   "source": [
    "### Confusion Matrices\n",
    "\n",
    "---\n",
    "\n",
    "Confusion matrices will fit any binary classification problem."
   ]
  },
  {
   "cell_type": "code",
   "execution_count": null,
   "metadata": {},
   "outputs": [
    {
     "data": {
      "text/html": [
       "<div>\n",
       "<style scoped>\n",
       "    .dataframe tbody tr th:only-of-type {\n",
       "        vertical-align: middle;\n",
       "    }\n",
       "\n",
       "    .dataframe tbody tr th {\n",
       "        vertical-align: top;\n",
       "    }\n",
       "\n",
       "    .dataframe thead th {\n",
       "        text-align: right;\n",
       "    }\n",
       "</style>\n",
       "<table border=\"1\" class=\"dataframe\">\n",
       "  <thead>\n",
       "    <tr style=\"text-align: right;\">\n",
       "      <th></th>\n",
       "      <th>Predicted Positive (PredP)</th>\n",
       "      <th>Predicted Negative (PredN)</th>\n",
       "    </tr>\n",
       "  </thead>\n",
       "  <tbody>\n",
       "    <tr>\n",
       "      <th>Real Positive (RealP)</th>\n",
       "      <td>True Positive (TP)</td>\n",
       "      <td>False Negative (FN)</td>\n",
       "    </tr>\n",
       "    <tr>\n",
       "      <th>Real Negative (RealN)</th>\n",
       "      <td>False Positive (FP)</td>\n",
       "      <td>True Negative (TN)</td>\n",
       "    </tr>\n",
       "  </tbody>\n",
       "</table>\n",
       "</div>"
      ],
      "text/latex": [
       "{\\centering\n",
       "\\begin{tabular}{lll}\n",
       "\\toprule\n",
       "{} & Predicted Positive (PredP) & Predicted Negative (PredN) \\\\\n",
       "\\midrule\n",
       "Real Positive (RealP) &         True Positive (TP) &        False Negative (FN) \\\\\n",
       "Real Negative (RealN) &        False Positive (FP) &         True Negative (TN) \\\\\n",
       "\\bottomrule\n",
       "\\end{tabular}\n",
       "\n",
       "\\medskip}"
      ],
      "text/plain": [
       "                      Predicted Positive (PredP) Predicted Negative (PredN)\n",
       "Real Positive (RealP)         True Positive (TP)        False Negative (FN)\n",
       "Real Negative (RealN)        False Positive (FP)         True Negative (TN)"
      ]
     },
     "execution_count": 27,
     "metadata": {},
     "output_type": "execute_result"
    }
   ],
   "source": [
    "import pandas as pd\n",
    "\n",
    "data = {'Predicted Positive (PredP)': ['True Positive (TP)', 'False Positive (FP)'],\n",
    "        'Predicted Negative (PredN)': ['False Negative (FN)', 'True Negative (TN)']}\n",
    "\n",
    "df = pd.DataFrame(data, index=['Real Positive (RealP)', 'Real Negative (RealN)'])\n",
    "df"
   ]
  },
  {
   "cell_type": "markdown",
   "metadata": {},
   "source": [
    "### Rows\n",
    "\n",
    "---\n",
    "\n",
    "$$RealP = TP + FN$$\n",
    "$$RealN = FP + TN$$\n",
    "\n",
    "#### Recall\n",
    "\n",
    "---\n",
    "\n",
    "$$ \\text{recall} = \\frac{TP}{TP + FN} $$\n",
    "\n",
    "\n",
    "### Columns\n",
    "\n",
    "---\n",
    "\n",
    "$$PredP = TP + FP$$\n",
    "$$PredN = FN + TN$$\n",
    "\n",
    "#### Precision\n",
    "\n",
    "---\n",
    "\n",
    "$$ \\text{precision} = \\frac{TP}{TP + FP} $$"
   ]
  },
  {
   "cell_type": "markdown",
   "metadata": {},
   "source": [
    "Let's use the iris dataset to see how these evaluations work in `sklearn`."
   ]
  },
  {
   "cell_type": "code",
   "execution_count": null,
   "metadata": {},
   "outputs": [
    {
     "name": "stdout",
     "output_type": "stream",
     "text": [
      "accuracy: 0.94\n",
      "confusion matrix:\n",
      "[[18  0  0]\n",
      " [ 0 16  1]\n",
      " [ 0  2 13]]\n"
     ]
    }
   ],
   "source": [
    "from sklearn.neighbors import KNeighborsClassifier\n",
    "from sklearn.metrics import accuracy_score, confusion_matrix\n",
    "\n",
    "tgt_preds = (KNeighborsClassifier()\n",
    "            .fit(iris_train_ftrs, iris_train_tgt)\n",
    "            .predict(iris_test_ftrs))\n",
    "\n",
    "print(\"accuracy:\", accuracy_score(iris_test_tgt, tgt_preds))\n",
    "cm = confusion_matrix(iris_test_tgt, tgt_preds)\n",
    "print(\"confusion matrix:\", cm, sep=\"\\n\")"
   ]
  },
  {
   "cell_type": "markdown",
   "metadata": {},
   "source": [
    "Let's make the confusion matrix a pretty table."
   ]
  },
  {
   "cell_type": "code",
   "execution_count": null,
   "metadata": {},
   "outputs": [
    {
     "data": {
      "text/plain": [
       "Text(48.0, 0.5, 'Actual')"
      ]
     },
     "execution_count": 34,
     "metadata": {},
     "output_type": "execute_result"
    },
    {
     "data": {
      "image/png": "[encoded data removed]",
      "text/plain": [
       "<Figure size 576x576 with 2 Axes>"
      ]
     },
     "metadata": {
      "needs_background": "light"
     },
     "output_type": "display_data"
    }
   ],
   "source": [
    "import seaborn as sns\n",
    "fig, ax = plt.subplots(1, 1, figsize=(8, 8))\n",
    "cm = confusion_matrix(iris_test_tgt, tgt_preds)\n",
    "ax = sns.heatmap(cm, annot=True, square=True,\n",
    "                 xticklabels=iris.target_names,\n",
    "                 yticklabels=iris.target_names)\n",
    "ax.set_xlabel('Predicted')\n",
    "ax.set_ylabel('Actual')"
   ]
  },
  {
   "cell_type": "markdown",
   "metadata": {},
   "source": [
    "## Dealing with Multiple Classes: Multiclass Averaging\n",
    "\n",
    "---"
   ]
  },
  {
   "cell_type": "markdown",
   "metadata": {},
   "source": [
    "How do we compress the rich information in a many-values confusion matrix into simpler values?\n",
    "\n",
    "In the classification above, we made three mistakes, predicting one Versicolor as Virginica and two Virginica as Versicolor. In our two-class metrics, it was the precision that drew out information about the positive prediction column. When we predict Versicolor, we are correct 16 times and wrong 2. Considering Versicolor by itself, we can calculate something similar to precision giving us $$\\frac{16}{18} \\approx .89 $$\n",
    "Similarly, for the Virginica class we get the following. $$\\frac{13}{14} \\approx .93 $$\n",
    "Finally, for the Setosa class, we predict $$\\frac{18}{18} = 1.0 $$\n",
    "The mean of $\\{\\frac{16}{18}, \\frac{13}{14}, 1\\}$ is about .9392.\n"
   ]
  },
  {
   "cell_type": "code",
   "execution_count": null,
   "metadata": {},
   "outputs": [
    {
     "data": {
      "text/plain": [
       "0.9392"
      ]
     },
     "execution_count": 43,
     "metadata": {},
     "output_type": "execute_result"
    }
   ],
   "source": [
    "from fractions import Fraction\n",
    "import numpy as np\n",
    "Versicolor_acc = 16/18\n",
    "Virginica_acc = 13/14\n",
    "Setosa_acc = 1\n",
    "accuracies = [Versicolor_acc, Virginica_acc, Setosa_acc]\n",
    "accuracies_arr = np.array(accuracies)\n",
    "avg = np.average(accuracies_arr)\n",
    "round(avg, 4)"
   ]
  },
  {
   "cell_type": "markdown",
   "metadata": {},
   "source": [
    "In `sklearn`, this method of summarizing the predictions is called `macro`. We calculate the *macro precision* by computing a value for each column and calculating the average of these values. To compute the value for one column, we take the diagonal entry in the column--where we are correct--and divide it by the sum of all values in the column."
   ]
  },
  {
   "cell_type": "code",
   "execution_count": null,
   "metadata": {},
   "outputs": [
    {
     "name": "stdout",
     "output_type": "stream",
     "text": [
      "macro: 0.9391534391534391\n",
      "should equal 'macro avg': 0.9391534391534391\n"
     ]
    }
   ],
   "source": [
    "from sklearn.metrics import precision_score\n",
    "macro_prec = precision_score(iris_test_tgt,\n",
    "                             tgt_preds, average='macro')\n",
    "print(\"macro:\", macro_prec)\n",
    "cm = metrics.confusion_matrix(iris_test_tgt, tgt_preds)\n",
    "n_labels = len(iris.target_names)\n",
    "print(\"should equal 'macro avg':\",\n",
    "      # correct          column              # columns\n",
    "      (np.diag(cm) / cm.sum(axis=0)).sum() / n_labels)\n"
   ]
  },
  {
   "cell_type": "markdown",
   "metadata": {},
   "source": [
    "The `micro` average \"calculates metrics globally\" and provides a broader look at the results. `micro` takes all the *correct* predictions and divides by *all* the predictions made. These come from (1) the sum of the values on the diagonal of the confusion matrix and (2) the sum of all values in the confusion matrix."
   ]
  },
  {
   "cell_type": "code",
   "execution_count": null,
   "metadata": {},
   "outputs": [
    {
     "name": "stdout",
     "output_type": "stream",
     "text": [
      "micro: 0.94\n",
      "should equal avg='micro': 0.94\n"
     ]
    }
   ],
   "source": [
    "from sklearn.metrics import precision_score\n",
    "print(\"micro:\", precision_score(iris_test_tgt, tgt_preds, average='micro'))\n",
    "\n",
    "cm = confusion_matrix(iris_test_tgt, tgt_preds)\n",
    "print(\"should equal avg='micro':\",\n",
    "      # TP.sum() / (TP&FP).sum() -->\n",
    "      # all correct / all preds\n",
    "      np.diag(cm).sum() / cm.sum())"
   ]
  },
  {
   "cell_type": "markdown",
   "metadata": {},
   "source": [
    "#### Support\n",
    "\n",
    "---\n",
    "\n",
    "The `classification_report` wraps several of these pieces together. It computes the one-versus-all statistics and computes a *weighted* average of the values--like `macro` except with different weights. The weights come from the *support*. In a learning context, the support of a classification rule--*if x is a cat and x is striped, and x is big, then x is a tiger*--is the count of the examples where the rule applies. In other words, if 45 out of 100 examples meet the constraints on the left-hand side of the _if_, the support is 45.\n",
    "\n",
    "In `classification_report`, it is the \"support in reality\" of our examples, equivalent to the total counts in each *row* of the confusion matrix."
   ]
  },
  {
   "cell_type": "code",
   "execution_count": null,
   "metadata": {},
   "outputs": [
    {
     "name": "stdout",
     "output_type": "stream",
     "text": [
      "              precision    recall  f1-score   support\n",
      "\n",
      "           0       1.00      1.00      1.00        18\n",
      "           1       0.89      0.94      0.91        17\n",
      "           2       0.93      0.87      0.90        15\n",
      "\n",
      "    accuracy                           0.94        50\n",
      "   macro avg       0.94      0.94      0.94        50\n",
      "weighted avg       0.94      0.94      0.94        50\n",
      "\n",
      "row counts equal support: [18 17 15]\n"
     ]
    }
   ],
   "source": [
    "from sklearn.metrics import classification_report\n",
    "\n",
    "print(classification_report(iris_test_tgt, tgt_preds))\n",
    "# average is a weighted macro average (see text)\n",
    "\n",
    "# verify sums-across-rows\n",
    "cm = confusion_matrix(iris_test_tgt, tgt_preds)\n",
    "print(\"row counts equal support:\", cm.sum(axis=1))"
   ]
  },
  {
   "cell_type": "markdown",
   "metadata": {},
   "source": [
    "# $F_1$ Score\n",
    "\n",
    "---\n",
    "\n",
    "$F_1$ computes a different kind of average from the confusion matrix. By average, we are talking about a measure of center. We already know about the mean and median (the middle-most of sorted values). There are other types of averages out there and the ancient Greeks cared about three averages or means: the arithmetic mean, the geometric mean, and the harmonic mean. \n",
    "\n",
    "A helpful view for us is that the special means, the geometric mean and the harmonic mean, are just wrappers around a converted arithmetic mean. Considering the geometric mean, it is computed by taking the arithmetic mean of the logarithms of the values and then exponentiating the value. What we are concerned with here is the harmonic mean. To compute it we (1) take the arithmetic mean of the reciprocals and then (2) take the reciprocal of that. The harmonic mean is very useful when we need to summarize rates like speed or compare different fractions. $F_1$ is a harmonic mean with a slight tweak. It has a constant in front. However, it's just a harmonic mean with a constant in front. The formula is as follows:\n",
    "\n",
    "$$ F_1 = 2 \\times \\frac{1}{\\frac{1}{\\text{precision}} + \\frac{1}{\\text{recall}}} $$"
   ]
  },
  {
   "cell_type": "markdown",
   "metadata": {},
   "source": [
    "If we apply some algebra by taking common denominators and doing an invert-and-multiply and we get the usual textbook formula for $F_1$.\n",
    "\n",
    "$$ F_1 = 2\\frac{\\text{precision} \\times \\text{recall}}{\\text{precision} + \\text{recall}}"
   ]
  },
  {
   "cell_type": "markdown",
   "metadata": {},
   "source": [
    "The formula represents an *equal* tradeoff between precision and recall, which simply means we want to be equally right in the value of our predictions and with respect to the real world. "
   ]
  },
  {
   "cell_type": "markdown",
   "metadata": {},
   "source": [
    "With the above, we see and confirm several of the values that we calculated by hand."
   ]
  },
  {
   "cell_type": "markdown",
   "metadata": {},
   "source": [
    "### 6.3 ROC Curves\n",
    "\n",
    "---\n",
    "\n",
    "Classification methods can do more than just slap a label on an example. They can give a probability to each prediction. Imagine a classifier that compes up with scores for ten individuals who might have a disease. The scores range from .05, .15, ..., .95. Based on training, it is determined that .7 is the best break point between folks that have the disease (higher scores) and folks that are healthy (lower scores). By moving the bar to the left, or lowering the numerical break point, we increase the number of hits (sick claims) that the classifier is making. Let's add in the truth as to whether these people are sick and create a confusion matrix."
   ]
  },
  {
   "cell_type": "code",
   "execution_count": null,
   "metadata": {},
   "outputs": [
    {
     "data": {
      "text/html": [
       "<div>\n",
       "<style scoped>\n",
       "    .dataframe tbody tr th:only-of-type {\n",
       "        vertical-align: middle;\n",
       "    }\n",
       "\n",
       "    .dataframe tbody tr th {\n",
       "        vertical-align: top;\n",
       "    }\n",
       "\n",
       "    .dataframe thead th {\n",
       "        text-align: right;\n",
       "    }\n",
       "</style>\n",
       "<table border=\"1\" class=\"dataframe\">\n",
       "  <thead>\n",
       "    <tr style=\"text-align: right;\">\n",
       "      <th></th>\n",
       "      <th>Pred Positive</th>\n",
       "      <th>Pred Negative</th>\n",
       "    </tr>\n",
       "  </thead>\n",
       "  <tbody>\n",
       "    <tr>\n",
       "      <th>Real Positive</th>\n",
       "      <td>.05 .15 .25</td>\n",
       "      <td>.55 .65</td>\n",
       "    </tr>\n",
       "    <tr>\n",
       "      <th>Real Negative</th>\n",
       "      <td>.35 .45</td>\n",
       "      <td>.75 .85 .95</td>\n",
       "    </tr>\n",
       "  </tbody>\n",
       "</table>\n",
       "</div>"
      ],
      "text/plain": [
       "              Pred Positive Pred Negative\n",
       "Real Positive   .05 .15 .25       .55 .65\n",
       "Real Negative       .35 .45   .75 .85 .95"
      ]
     },
     "execution_count": 15,
     "metadata": {},
     "output_type": "execute_result"
    }
   ],
   "source": [
    "import pandas as pd\n",
    "\n",
    "d = {'Pred Positive': ['.05 .15 .25', '.35 .45'],\n",
    "     'Pred Negative': ['.55 .65', '.75 .85 .95']}\n",
    "\n",
    "df = pd.DataFrame(data=d, index=['Real Positive', 'Real Negative'])\n",
    "df"
   ]
  },
  {
   "cell_type": "markdown",
   "metadata": {},
   "source": [
    "Imagine in the confusion matrix that we can move the bar between predicted positives and predicted negatives. Predicted positives are to the left and predicted negatives are to the right. Let's look at the confusion matrix again."
   ]
  },
  {
   "cell_type": "code",
   "execution_count": null,
   "metadata": {},
   "outputs": [
    {
     "data": {
      "text/html": [
       "<div>\n",
       "<style scoped>\n",
       "    .dataframe tbody tr th:only-of-type {\n",
       "        vertical-align: middle;\n",
       "    }\n",
       "\n",
       "    .dataframe tbody tr th {\n",
       "        vertical-align: top;\n",
       "    }\n",
       "\n",
       "    .dataframe thead th {\n",
       "        text-align: right;\n",
       "    }\n",
       "</style>\n",
       "<table border=\"1\" class=\"dataframe\">\n",
       "  <thead>\n",
       "    <tr style=\"text-align: right;\">\n",
       "      <th></th>\n",
       "      <th>Predicted Positive</th>\n",
       "      <th>Predicted Negative</th>\n",
       "    </tr>\n",
       "  </thead>\n",
       "  <tbody>\n",
       "    <tr>\n",
       "      <th>Real Positive</th>\n",
       "      <td>TP</td>\n",
       "      <td>FN</td>\n",
       "    </tr>\n",
       "    <tr>\n",
       "      <th>Real Negative</th>\n",
       "      <td>FP</td>\n",
       "      <td>TN</td>\n",
       "    </tr>\n",
       "  </tbody>\n",
       "</table>\n",
       "</div>"
      ],
      "text/plain": [
       "              Predicted Positive Predicted Negative\n",
       "Real Positive                 TP                 FN\n",
       "Real Negative                 FP                 TN"
      ]
     },
     "execution_count": 16,
     "metadata": {},
     "output_type": "execute_result"
    }
   ],
   "source": [
    "import pandas as pd\n",
    "\n",
    "d = {'Predicted Positive': ['TP', 'FP'],\n",
    "     'Predicted Negative': ['FN', 'TN']}\n",
    "\n",
    "df = pd.DataFrame(data=d, index=['Real Positive', 'Real Negative'])\n",
    "df"
   ]
  },
  {
   "cell_type": "markdown",
   "metadata": {},
   "source": [
    "By moving the PredictionBar far enough to the right we change predicted negatives to predicted positives. If we slam the PredictionBar all the way to the right, we predict everything as a predicted positive or sick person. As a side effect, there are no predicted negatives. As a result, there are no false negatives -- we predicted everything as a 1. By predicting everything as a positive, we do great on real positives and terrible on real negatives."
   ]
  },
  {
   "cell_type": "markdown",
   "metadata": {},
   "source": [
    "Let's imagine a corresponding scenario where the PredictionBar is moved all the way to the left. Now we predict nothing as positive but everything as negative. Regarding the top row, real positives are all predicted negative. On the bottom, all real negatives are predicted negatives. there is no equivalent setup with a *horizontal* bar between real positives and real negatives. Real cats cannot become real dogs. However, our predictions can change, reality can't.\n",
    "\n",
    "In learning systems, there are often tradeoffs that must be made. Here, the tradeoff is between how many false positives we will tolerate versus how many false negatives we will tolerate. We can control this tradeoff by moving our prediction bar, by setting a threshold. \n",
    "\n",
    "We can be hyper-risk-averse, labeling everyone sick so we don't miss catching a sick person (at the expense that we label some healthy people sick), or we can label everyone healthy, and not treat anyone, even the sick. There are two questions to answer:\n",
    "\n",
    "1. How do we evaluate and select our threshold? How do we pick a specific tradeoff between false positives and false negatives?\n",
    "2. How do we compare two different classificaiton systems, both of which have a whole range of possible tradeoffs?\n",
    "\n",
    "Fortuantely, there is a graphical tool that lets us answer these questions, the *ROC curve*. The long-winded name is the *Receiver Operating Characteristic curve*. Originally it was used to quantify radar tracking of bombers headed toward England during World War II. They needed to determine whether a blip on the radar screen was a real threat (a bomber) or not (a ghosted echo of a plane or a bird): to tell true positives from false positives.\n",
    "\n",
    "ROC curves are normally drawn in terms of *sensitivity* also called *true positive rate, TPR. $ 1 - specificity $ is the *false positive rate* (FPR). These both measure performance *with respect to the breakdown in the real world. They care how we do based on what is out there in reality. We want to have a *high* TPR: 1.0 is perfect. We want a *low* FPR: 0.0 is great. We can game the system and guarantee a high TPR by making the prediction bar so low that we say *everyone* is positive. But that sends the false up to one. If we say no one is sick, we get a great FPR of zero. There are no false claims of sickness, but our TPR is also zero, while we wanted that value to be near 1.0.\n",
    "\n",
    "### Patterns in the ROC \n",
    "\n",
    "\n",
    "\n"
   ]
  },
  {
   "cell_type": "markdown",
   "metadata": {},
   "source": [
    "### Binary ROC\n",
    "\n",
    "How do we make ROC work? There's a single call, `roc_curve`, in the `sklearn.metrics` module that does the heavy lifting after a couple of setup steps. First, let's convert the iris problem into a *binary* classification task to simplify the interpretation of the results. The binary question asks, \"Is it *Versicolor*?\" The answer is yes or no. Also, we need to invoke the classification scoring mechanism of our classifier so we can tell who is on which side of our prediction bar. Instead of outputting a class like *Versicolor*, we need to know a probability, such as a .7 likelihood of *Versicolor*. We do this by using `predict_proba` instead of the typical `predict` method. `predict_proba` returns probabilities for *False* and *True* in two columns. We are interested in the probability from the *True* column for building the ROC curve."
   ]
  },
  {
   "cell_type": "code",
   "execution_count": 23,
   "metadata": {},
   "outputs": [],
   "source": [
    "from sklearn.model_selection import train_test_split\n",
    "from sklearn.naive_bayes import GaussianNB\n",
    "is_versicolor = iris.target == 1\n",
    "\n",
    "tts_1c = train_test_split(iris.data, is_versicolor,\n",
    "                          test_size=.33, random_state=21)\n",
    "\n",
    "(iris_1c_train_ftrs, iris_1c_test_ftrs,\n",
    " iris_1c_train_tgt, iris_1c_test_tgt) = tts_1c\n",
    "\n",
    "# build, fit, predict (probability scores) for NB model\n",
    "gnb = naive_bayes.GaussianNB()\n",
    "prob_true = (gnb.fit(iris_1c_train_ftrs, iris_1c_train_tgt)\n",
    "             .predict_proba(iris_1c_test_ftrs)[:, 1])  # [:, 1]==\"True\""
   ]
  },
  {
   "cell_type": "markdown",
   "metadata": {},
   "source": [
    "With the setup done, we can do the calculations for the ROC curve and display it."
   ]
  },
  {
   "cell_type": "code",
   "execution_count": 24,
   "metadata": {},
   "outputs": [
    {
     "name": "stdout",
     "output_type": "stream",
     "text": [
      "FPR : [0.     0.     0.     0.0606 0.0606 0.1212 0.1212 0.1818 1.    ]\n",
      "TPR : [0.     0.0588 0.8824 0.8824 0.9412 0.9412 1.     1.     1.    ]\n"
     ]
    },
    {
     "data": {
      "image/png": "[encoded data removed]",
      "text/plain": [
       "<Figure size 576x288 with 1 Axes>"
      ]
     },
     "metadata": {
      "needs_background": "light"
     },
     "output_type": "display_data"
    }
   ],
   "source": [
    "import matplotlib.pyplot as plt\n",
    "from sklearn.metrics import roc_curve, auc\n",
    "\n",
    "fpr, tpr, thresh = roc_curve(iris_1c_test_tgt, prob_true)\n",
    "auc = auc(fpr, tpr)\n",
    "print(f\"FPR : {fpr}\")\n",
    "print(f\"TPR : {tpr}\")\n",
    "\n",
    "# create the main graph\n",
    "fig, ax = plt.subplots(figsize=(8, 4))\n",
    "ax.plot(fpr, tpr, 'o--')\n",
    "ax.set_title(f\"1-Class Iris ROC Curve\\nAUC:{auc:.3f}\")\n",
    "ax.set_xlabel(\"FPR\")\n",
    "ax.set_ylabel(\"TPR\")\n",
    "\n",
    "# do a bit of work to label some points with their respective thresholds\n",
    "investigate = np.array([1, 3, 5])\n",
    "for idx in investigate:\n",
    "    th, f, t = thresh[idx], fpr[idx], tpr[idx]\n",
    "    ax.annotate(f'thresh = {th:.3f}', xy=(f+.01, t-.01),\n",
    "                xytext=(f+.1, t), arrowprops={'arrowstyle': '->'})\n"
   ]
  },
  {
   "cell_type": "markdown",
   "metadata": {},
   "source": [
    "Most of the FPR values are between 0.0 and 0.2, while the TPR values quickly jump into the range of 0.9 to 1.0. Let's take a look at the calculation of those values. Each point represents a different confusion matrix based on its own unique threshold. The following shows the confusion matrices for the second, fourth, and sixth thresholds labeled in the last graph. Due to zero-based ine to the variable xing, these occur at indices 1, 3, 5and 5 which were assigned to the variable `investigate` in the previous cell. We could have picked any of the eight thresholds that `sklearn` found. Let's look at these values."
   ]
  },
  {
   "cell_type": "code",
   "execution_count": 25,
   "metadata": {},
   "outputs": [
    {
     "data": {
      "text/plain": [
       "Text(84.0, 0.5, 'Actual')"
      ]
     },
     "execution_count": 25,
     "metadata": {},
     "output_type": "execute_result"
    },
    {
     "data": {
      "image/png": "[encoded data removed]",
      "text/plain": [
       "<Figure size 864x288 with 3 Axes>"
      ]
     },
     "metadata": {
      "needs_background": "light"
     },
     "output_type": "display_data"
    }
   ],
   "source": [
    "title_fmt = \"Threshold {}\\n~{:5.3f}\\nTPR : {:.3f}\\nFPR : {:.3f}\"\n",
    "\n",
    "pn = ['Positive', 'Negative']\n",
    "add_args = {'xticklabels': pn,\n",
    "            'yticklabels': pn,\n",
    "            'square': True}\n",
    "fig, axes = plt.subplots(1, 3, sharey=True, figsize=(12, 4))\n",
    "for ax, thresh_idx in zip(axes.flat, investigate):\n",
    "    preds_at_th = prob_true < thresh[thresh_idx]\n",
    "    cm = sklearn.metrics.confusion_matrix(1-iris_1c_test_tgt, preds_at_th)\n",
    "    sns.heatmap(cm, annot=True, cbar=False, ax=ax, **add_args)\n",
    "\n",
    "    ax.set_xlabel('Predicted')\n",
    "    ax.set_title(title_fmt.format(thresh_idx,\n",
    "                                  thresh[thresh_idx],\n",
    "                                  tpr[thresh_idx],\n",
    "                                  fpr[thresh_idx]))\n",
    "\n",
    "axes[0].set_ylabel('Actual')\n"
   ]
  },
  {
   "cell_type": "markdown",
   "metadata": {},
   "source": [
    "\n",
    "Let's say we want use the confusion matrix to determine how well a classifier identifies sick people."
   ]
  },
  {
   "cell_type": "markdown",
   "metadata": {},
   "source": [
    "### AUC: Area-Under-the-(ROC)-Curve\n",
    "\n",
    "---\n",
    "\n",
    "How can we summarize an ROC curve as a single value? We answer by calculating the *area under the curve* (AUC) that we've just drawn. The AUC is an *overall* measure of classifier performance at a series of thresholds. The benefit of single-value summaries is that we can easily compute other statistics on them and summarize them graphically. Let's look at several cross-validated AUCs displayed simultaneously on a strip plot."
   ]
  },
  {
   "cell_type": "code",
   "execution_count": 26,
   "metadata": {},
   "outputs": [
    {
     "data": {
      "image/png": "[encoded data removed]",
      "text/plain": [
       "<Figure size 216x216 with 1 Axes>"
      ]
     },
     "metadata": {
      "needs_background": "light"
     },
     "output_type": "display_data"
    }
   ],
   "source": [
    "fig,ax = plt.subplots(1, 1, figsize=(3, 3))\n",
    "model = sklearn.neighbors.KNeighborsClassifier(3)\n",
    "cv_auc = sklearn.model_selection.cross_val_score(model, iris.data, iris.target==1, scoring='roc_auc', cv=10)\n",
    "ax = sns.swarmplot(cv_auc, orient='v')\n",
    "ax.set_title('10-Fold AUCs');"
   ]
  },
  {
   "cell_type": "markdown",
   "metadata": {},
   "source": [
    "Many folds return perfect results."
   ]
  },
  {
   "cell_type": "markdown",
   "metadata": {},
   "source": [
    "`sklearn.metrics.roc_curve` is ill-equipped to deal with multiclass problems. We can work around this by recoding our tri-class problem into a series of me-versus-the-world or one-versus-rest (OvR) alternatives. OvR means we compare each of the following binary problems: 0 versus [1, 2], 1 versus [0, 2];, and 2 versus [0, 2]. The difference here is that we do it for all three possibilities. The basic tool to encode these comparisons into our data is `label_binarize`. Let's look at examples 0, 50, and 100 from the original multiclass data."
   ]
  },
  {
   "cell_type": "markdown",
   "metadata": {},
   "source": [
    "## Multiclass Learners, One-versus-Rest, and ROC\n",
    "\n",
    "---"
   ]
  },
  {
   "cell_type": "code",
   "execution_count": 27,
   "metadata": {},
   "outputs": [
    {
     "name": "stdout",
     "output_type": "stream",
     "text": [
      "Original Encoding\n",
      "[0 1 2]\n"
     ]
    }
   ],
   "source": [
    "checkout = [0, 50, 100]\n",
    "print(\"Original Encoding\")\n",
    "print(iris.target[checkout])"
   ]
  },
  {
   "cell_type": "markdown",
   "metadata": {},
   "source": [
    "Therefore, examples 0, 50, and 100 correspond to classes 0, 1, and 2. When we binarize, the classes become:"
   ]
  },
  {
   "cell_type": "code",
   "execution_count": 30,
   "metadata": {},
   "outputs": [
    {
     "name": "stdout",
     "output_type": "stream",
     "text": [
      "'Multi-label' Encoding\n",
      "[[1 0 0]\n",
      " [0 1 0]\n",
      " [0 0 1]]\n"
     ]
    }
   ],
   "source": [
    "print(\"'Multi-label' Encoding\")\n",
    "print(sklearn.preprocessing.label_binarize(y=iris.target,classes=[0, 1, 2])[checkout])"
   ]
  },
  {
   "cell_type": "code",
   "execution_count": 32,
   "metadata": {},
   "outputs": [
    {
     "data": {
      "text/html": [
       "<div>\n",
       "<style scoped>\n",
       "    .dataframe tbody tr th:only-of-type {\n",
       "        vertical-align: middle;\n",
       "    }\n",
       "\n",
       "    .dataframe tbody tr th {\n",
       "        vertical-align: top;\n",
       "    }\n",
       "\n",
       "    .dataframe thead th {\n",
       "        text-align: right;\n",
       "    }\n",
       "</style>\n",
       "<table border=\"1\" class=\"dataframe\">\n",
       "  <thead>\n",
       "    <tr style=\"text-align: right;\">\n",
       "      <th></th>\n",
       "      <th>0</th>\n",
       "      <th>1</th>\n",
       "      <th>2</th>\n",
       "    </tr>\n",
       "  </thead>\n",
       "  <tbody>\n",
       "    <tr>\n",
       "      <th>0</th>\n",
       "      <td>1</td>\n",
       "      <td>0</td>\n",
       "      <td>0</td>\n",
       "    </tr>\n",
       "    <tr>\n",
       "      <th>1</th>\n",
       "      <td>0</td>\n",
       "      <td>1</td>\n",
       "      <td>0</td>\n",
       "    </tr>\n",
       "    <tr>\n",
       "      <th>2</th>\n",
       "      <td>0</td>\n",
       "      <td>0</td>\n",
       "      <td>1</td>\n",
       "    </tr>\n",
       "  </tbody>\n",
       "</table>\n",
       "</div>"
      ],
      "text/latex": [
       "{\\centering\n",
       "\\begin{tabular}{llll}\n",
       "\\toprule\n",
       "{} &  0 &  1 &  2 \\\\\n",
       "\\midrule\n",
       "0 &  1 &  0 &  0 \\\\\n",
       "1 &  0 &  1 &  0 \\\\\n",
       "2 &  0 &  0 &  1 \\\\\n",
       "\\bottomrule\n",
       "\\end{tabular}\n",
       "\n",
       "\\medskip}"
      ],
      "text/plain": [
       "   0  1  2\n",
       "0  1  0  0\n",
       "1  0  1  0\n",
       "2  0  0  1"
      ]
     },
     "execution_count": 32,
     "metadata": {},
     "output_type": "execute_result"
    }
   ],
   "source": [
    "import pandas as pd\n",
    "\n",
    "d = {'0': ['1', '0', '0'],\n",
    "     '1': ['0', '1', '0'],\n",
    "     '2': ['0', '0', '1']}\n",
    "\n",
    "df = pd.DataFrame(data=d, index=['0', '1', '2'])\n",
    "df"
   ]
  },
  {
   "cell_type": "markdown",
   "metadata": {},
   "source": [
    "Let's look at another example."
   ]
  },
  {
   "cell_type": "code",
   "execution_count": 31,
   "metadata": {},
   "outputs": [
    {
     "data": {
      "text/plain": [
       "array([[1, 0, 0, 0],\n",
       "       [0, 0, 0, 1]])"
      ]
     },
     "execution_count": 31,
     "metadata": {},
     "output_type": "execute_result"
    }
   ],
   "source": [
    "from sklearn.preprocessing import label_binarize\n",
    "label_binarize(y=[1, 6], classes=[1, 2, 4, 6])"
   ]
  },
  {
   "cell_type": "code",
   "execution_count": 33,
   "metadata": {},
   "outputs": [
    {
     "data": {
      "text/html": [
       "<div>\n",
       "<style scoped>\n",
       "    .dataframe tbody tr th:only-of-type {\n",
       "        vertical-align: middle;\n",
       "    }\n",
       "\n",
       "    .dataframe tbody tr th {\n",
       "        vertical-align: top;\n",
       "    }\n",
       "\n",
       "    .dataframe thead th {\n",
       "        text-align: right;\n",
       "    }\n",
       "</style>\n",
       "<table border=\"1\" class=\"dataframe\">\n",
       "  <thead>\n",
       "    <tr style=\"text-align: right;\">\n",
       "      <th></th>\n",
       "      <th>1</th>\n",
       "      <th>2</th>\n",
       "      <th>4</th>\n",
       "      <th>6</th>\n",
       "    </tr>\n",
       "  </thead>\n",
       "  <tbody>\n",
       "    <tr>\n",
       "      <th>1</th>\n",
       "      <td>1</td>\n",
       "      <td>0</td>\n",
       "      <td>0</td>\n",
       "      <td>0</td>\n",
       "    </tr>\n",
       "    <tr>\n",
       "      <th>6</th>\n",
       "      <td>0</td>\n",
       "      <td>0</td>\n",
       "      <td>0</td>\n",
       "      <td>1</td>\n",
       "    </tr>\n",
       "  </tbody>\n",
       "</table>\n",
       "</div>"
      ],
      "text/latex": [
       "{\\centering\n",
       "\\begin{tabular}{lllll}\n",
       "\\toprule\n",
       "{} &  1 &  2 &  4 &  6 \\\\\n",
       "\\midrule\n",
       "1 &  1 &  0 &  0 &  0 \\\\\n",
       "6 &  0 &  0 &  0 &  1 \\\\\n",
       "\\bottomrule\n",
       "\\end{tabular}\n",
       "\n",
       "\\medskip}"
      ],
      "text/plain": [
       "   1  2  4  6\n",
       "1  1  0  0  0\n",
       "6  0  0  0  1"
      ]
     },
     "execution_count": 33,
     "metadata": {},
     "output_type": "execute_result"
    }
   ],
   "source": [
    "import pandas as pd\n",
    "\n",
    "d = {'1': ['1', '0'],\n",
    "     '2': ['0', '0'],\n",
    "     '4': ['0', '0'],\n",
    "     '6': ['0', '1']}\n",
    "\n",
    "df = pd.DataFrame(data=d, index=['1', '6'])\n",
    "df\n"
   ]
  },
  {
   "cell_type": "markdown",
   "metadata": {},
   "source": [
    "The class ordering is preserved:"
   ]
  },
  {
   "cell_type": "code",
   "execution_count": 34,
   "metadata": {},
   "outputs": [
    {
     "data": {
      "text/plain": [
       "array([[1, 0, 0, 0],\n",
       "       [0, 1, 0, 0]])"
      ]
     },
     "execution_count": 34,
     "metadata": {},
     "output_type": "execute_result"
    }
   ],
   "source": [
    "label_binarize([1, 6], classes=[1, 6, 4, 2])"
   ]
  },
  {
   "cell_type": "markdown",
   "metadata": {},
   "source": [
    "Binary targets transfrom to a column vector:"
   ]
  },
  {
   "cell_type": "code",
   "execution_count": 35,
   "metadata": {},
   "outputs": [
    {
     "data": {
      "text/plain": [
       "array([[1],\n",
       "       [0],\n",
       "       [0],\n",
       "       [1]])"
      ]
     },
     "execution_count": 35,
     "metadata": {},
     "output_type": "execute_result"
    }
   ],
   "source": [
    "sklearn.preprocessing.label_binarize(['yes', 'no', 'no', 'yes'], classes=['no', 'yes'])"
   ]
  },
  {
   "cell_type": "markdown",
   "metadata": {},
   "source": [
    "These encodings are columns of Boolean flags--yes/no for \"Is it class _x_?\". The first column answers, \"Is it class 0?\" and the answers are yes, no, and no. Now, we add a layer of complexity to our classifier. Instead of a *single* classifier, we are going to make one classifier for each target class that was just added, the three new target columns. These become (1) a classifier for class 0 versus the rest, (2) a classifier for class 1 versus the rest, and (3) a classifier for class 2 versus the rest. Then, we can look at the individual performance of the three classifiers."
   ]
  },
  {
   "cell_type": "code",
   "execution_count": 43,
   "metadata": {},
   "outputs": [
    {
     "data": {
      "text/plain": [
       "Text(0, 0.5, 'TPR')"
      ]
     },
     "execution_count": 43,
     "metadata": {},
     "output_type": "execute_result"
    },
    {
     "data": {
      "image/png": "[encoded data removed]",
      "text/plain": [
       "<Figure size 576x288 with 1 Axes>"
      ]
     },
     "metadata": {
      "needs_background": "light"
     },
     "output_type": "display_data"
    }
   ],
   "source": [
    "iris_multi_tgt = sklearn.preprocessing.label_binarize(\n",
    "    y=iris.target, classes=[0, 1, 2])\n",
    "\n",
    "# im --> \"iris multi\"\n",
    "\n",
    "(im_train_ftrs, im_test_ftrs,\n",
    " im_train_tgt, im_test_tgt) = sklearn.model_selection.train_test_split(iris.data,\n",
    "                                                                       iris_multi_tgt, test_size=.33, random_state=21)\n",
    "\n",
    "# knn wrapped up in one-versus-rest (3 classifiers)\n",
    "knn = sklearn.neighbors.KNeighborsClassifier(n_neighbors=5)\n",
    "ovr_knn = sklearn.multiclass.OneVsRestClassifier(knn)\n",
    "pred_probs = (ovr_knn.fit(im_train_ftrs, im_train_tgt)\n",
    "              .predict_proba(im_test_ftrs))\n",
    "\n",
    "# make ROC plots\n",
    "fig,ax = plt.subplots(figsize=(8, 4))\n",
    "for cls in [0, 1, 2]:\n",
    "    fpr, tpr, _ = sklearn.metrics.roc_curve(im_test_tgt[:,cls],\n",
    "    pred_probs[:,cls])\n",
    "\n",
    "    label = f'Class {cls} vs Rest (AUC = {sklearn.metrics.auc(fpr,tpr):.2f})'\n",
    "    ax.plot(fpr, tpr, 'o--', label=label)\n",
    "\n",
    "ax.legend()\n",
    "ax.set_xlabel(\"FPR\")\n",
    "ax.set_ylabel(\"TPR\")\n"
   ]
  },
  {
   "cell_type": "markdown",
   "metadata": {},
   "source": [
    "# Another Take on Multiclass: One-versus-One"
   ]
  },
  {
   "cell_type": "markdown",
   "metadata": {},
   "source": [
    "There is another take on dealing with the sometimes negative interaction between multiclass problems and learning systems. In one-versus-rest, we chunk off apples against all other fruit in one grand binary problem. For apples, we create *one* one-versus-rest classifier. Another way to do this is to chuch off apple-versus-banana, apple-versus-orange, and so on. Then, instead of one grand Boolean comparison for apples, we make $n - 1$ comparisons, where  $n$ is the number of classes we have. This alternative is called *one-versus-one*. How do we wrap the one-versus-one winners into a grand winner for making a single prediction? We can take the sums of the individual wins and the class with the biggest number of wins in the class we predict. The one-versus-one wrapper gives us *classification scores* for each individual class. The values are *not* probabilities. We take the index of the maximum classification score to find the single best-predicted class."
   ]
  },
  {
   "cell_type": "code",
   "execution_count": 44,
   "metadata": {},
   "outputs": [
    {
     "data": {
      "text/html": [
       "<div>\n",
       "<style scoped>\n",
       "    .dataframe tbody tr th:only-of-type {\n",
       "        vertical-align: middle;\n",
       "    }\n",
       "\n",
       "    .dataframe tbody tr th {\n",
       "        vertical-align: top;\n",
       "    }\n",
       "\n",
       "    .dataframe thead th {\n",
       "        text-align: right;\n",
       "    }\n",
       "</style>\n",
       "<table border=\"1\" class=\"dataframe\">\n",
       "  <thead>\n",
       "    <tr style=\"text-align: right;\">\n",
       "      <th></th>\n",
       "      <th>0</th>\n",
       "      <th>1</th>\n",
       "      <th>2</th>\n",
       "      <th>class</th>\n",
       "    </tr>\n",
       "  </thead>\n",
       "  <tbody>\n",
       "    <tr>\n",
       "      <th>0</th>\n",
       "      <td>-0.2222</td>\n",
       "      <td>2.1667</td>\n",
       "      <td>1.1667</td>\n",
       "      <td>1</td>\n",
       "    </tr>\n",
       "    <tr>\n",
       "      <th>1</th>\n",
       "      <td>2.0000</td>\n",
       "      <td>1.0000</td>\n",
       "      <td>0.0000</td>\n",
       "      <td>0</td>\n",
       "    </tr>\n",
       "    <tr>\n",
       "      <th>2</th>\n",
       "      <td>2.0000</td>\n",
       "      <td>1.0000</td>\n",
       "      <td>0.0000</td>\n",
       "      <td>0</td>\n",
       "    </tr>\n",
       "    <tr>\n",
       "      <th>3</th>\n",
       "      <td>2.0000</td>\n",
       "      <td>1.0000</td>\n",
       "      <td>0.0000</td>\n",
       "      <td>0</td>\n",
       "    </tr>\n",
       "    <tr>\n",
       "      <th>4</th>\n",
       "      <td>-0.2222</td>\n",
       "      <td>2.1667</td>\n",
       "      <td>1.1667</td>\n",
       "      <td>1</td>\n",
       "    </tr>\n",
       "  </tbody>\n",
       "</table>\n",
       "</div>"
      ],
      "text/latex": [
       "{\\centering\n",
       "\\begin{tabular}{lrrrr}\n",
       "\\toprule\n",
       "{} &                    0 &                    1 &                    2 &  class \\\\\n",
       "\\midrule\n",
       "0 &              -0.2222 &               2.1667 &               1.1667 &      1 \\\\\n",
       "1 &               2.0000 &               1.0000 &               0.0000 &      0 \\\\\n",
       "2 &               2.0000 &               1.0000 &               0.0000 &      0 \\\\\n",
       "3 &               2.0000 &               1.0000 &               0.0000 &      0 \\\\\n",
       "4 &              -0.2222 &               2.1667 &               1.1667 &      1 \\\\\n",
       "\\bottomrule\n",
       "\\end{tabular}\n",
       "\n",
       "\\medskip}"
      ],
      "text/plain": [
       "                     0                    1                    2  class\n",
       "0              -0.2222               2.1667               1.1667      1\n",
       "1               2.0000               1.0000               0.0000      0\n",
       "2               2.0000               1.0000               0.0000      0\n",
       "3               2.0000               1.0000               0.0000      0\n",
       "4              -0.2222               2.1667               1.1667      1"
      ]
     },
     "metadata": {},
     "output_type": "display_data"
    }
   ],
   "source": [
    "knn = sklearn.neighbors.KNeighborsClassifier(n_neighbors=5)\n",
    "ovo_knn = sklearn.multiclass.OneVsOneClassifier(knn)\n",
    "pred_scores = (ovo_knn.fit(iris_train_ftrs, iris_train_tgt)\n",
    "                      .decision_function(iris_test_ftrs))\n",
    "df = pd.DataFrame(pred_scores)\n",
    "df['class'] = df.values.argmax(axis=1)\n",
    "display(df.head())\n"
   ]
  },
  {
   "cell_type": "markdown",
   "metadata": {},
   "source": [
    "Let's put the actual classes beside the one-versus-one classification scores:"
   ]
  },
  {
   "cell_type": "code",
   "execution_count": 47,
   "metadata": {},
   "outputs": [
    {
     "data": {
      "text/html": [
       "<div>\n",
       "<style scoped>\n",
       "    .dataframe tbody tr th:only-of-type {\n",
       "        vertical-align: middle;\n",
       "    }\n",
       "\n",
       "    .dataframe tbody tr th {\n",
       "        vertical-align: top;\n",
       "    }\n",
       "\n",
       "    .dataframe thead tr th {\n",
       "        text-align: left;\n",
       "    }\n",
       "</style>\n",
       "<table border=\"1\" class=\"dataframe\">\n",
       "  <thead>\n",
       "    <tr>\n",
       "      <th></th>\n",
       "      <th colspan=\"3\" halign=\"left\">Class Indicator</th>\n",
       "      <th colspan=\"3\" halign=\"left\">Vote</th>\n",
       "    </tr>\n",
       "    <tr>\n",
       "      <th></th>\n",
       "      <th>0</th>\n",
       "      <th>1</th>\n",
       "      <th>2</th>\n",
       "      <th>0</th>\n",
       "      <th>1</th>\n",
       "      <th>2</th>\n",
       "    </tr>\n",
       "  </thead>\n",
       "  <tbody>\n",
       "    <tr>\n",
       "      <th>0</th>\n",
       "      <td>0.0000</td>\n",
       "      <td>1.0000</td>\n",
       "      <td>0.0000</td>\n",
       "      <td>-0.2222</td>\n",
       "      <td>2.1667</td>\n",
       "      <td>1.1667</td>\n",
       "    </tr>\n",
       "    <tr>\n",
       "      <th>1</th>\n",
       "      <td>1.0000</td>\n",
       "      <td>0.0000</td>\n",
       "      <td>0.0000</td>\n",
       "      <td>2.0000</td>\n",
       "      <td>1.0000</td>\n",
       "      <td>0.0000</td>\n",
       "    </tr>\n",
       "    <tr>\n",
       "      <th>2</th>\n",
       "      <td>1.0000</td>\n",
       "      <td>0.0000</td>\n",
       "      <td>0.0000</td>\n",
       "      <td>2.0000</td>\n",
       "      <td>1.0000</td>\n",
       "      <td>0.0000</td>\n",
       "    </tr>\n",
       "    <tr>\n",
       "      <th>3</th>\n",
       "      <td>1.0000</td>\n",
       "      <td>0.0000</td>\n",
       "      <td>0.0000</td>\n",
       "      <td>2.0000</td>\n",
       "      <td>1.0000</td>\n",
       "      <td>0.0000</td>\n",
       "    </tr>\n",
       "    <tr>\n",
       "      <th>4</th>\n",
       "      <td>0.0000</td>\n",
       "      <td>1.0000</td>\n",
       "      <td>0.0000</td>\n",
       "      <td>-0.2222</td>\n",
       "      <td>2.1667</td>\n",
       "      <td>1.1667</td>\n",
       "    </tr>\n",
       "  </tbody>\n",
       "</table>\n",
       "</div>"
      ],
      "text/latex": [
       "{\\centering\n",
       "\\begin{tabular}{lrrrrrr}\n",
       "\\toprule\n",
       "{} & \\multicolumn{3}{l}{Class Indicator} & \\multicolumn{3}{l}{Vote} \\\\\n",
       "{} &                    0 &                    1 &                    2 &                    0 &                    1 &                    2 \\\\\n",
       "\\midrule\n",
       "0 &               0.0000 &               1.0000 &               0.0000 &              -0.2222 &               2.1667 &               1.1667 \\\\\n",
       "1 &               1.0000 &               0.0000 &               0.0000 &               2.0000 &               1.0000 &               0.0000 \\\\\n",
       "2 &               1.0000 &               0.0000 &               0.0000 &               2.0000 &               1.0000 &               0.0000 \\\\\n",
       "3 &               1.0000 &               0.0000 &               0.0000 &               2.0000 &               1.0000 &               0.0000 \\\\\n",
       "4 &               0.0000 &               1.0000 &               0.0000 &              -0.2222 &               2.1667 &               1.1667 \\\\\n",
       "\\bottomrule\n",
       "\\end{tabular}\n",
       "\n",
       "\\medskip}"
      ],
      "text/plain": [
       "       Class Indicator                                            \\\n",
       "                     0                    1                    2   \n",
       "0               0.0000               1.0000               0.0000   \n",
       "1               1.0000               0.0000               0.0000   \n",
       "2               1.0000               0.0000               0.0000   \n",
       "3               1.0000               0.0000               0.0000   \n",
       "4               0.0000               1.0000               0.0000   \n",
       "\n",
       "                  Vote                                            \n",
       "                     0                    1                    2  \n",
       "0              -0.2222               2.1667               1.1667  \n",
       "1               2.0000               1.0000               0.0000  \n",
       "2               2.0000               1.0000               0.0000  \n",
       "3               2.0000               1.0000               0.0000  \n",
       "4              -0.2222               2.1667               1.1667  "
      ]
     },
     "metadata": {},
     "output_type": "display_data"
    }
   ],
   "source": [
    "# note: ugly way to make column headers\n",
    "mi = pd.MultiIndex([['Class Indicator', 'Vote'], [0, 1, 2]],\n",
    "                   [[0]*3+[1]*3, list(range(3)) * 2])\n",
    "df = pd.DataFrame(np.c_[im_test_tgt, pred_scores], columns=mi)\n",
    "display(df.head())\n"
   ]
  },
  {
   "cell_type": "code",
   "execution_count": 46,
   "metadata": {},
   "outputs": [
    {
     "name": "stdout",
     "output_type": "stream",
     "text": [
      "\n",
      "    A multi-level, or hierarchical, index object for pandas objects.\n",
      "\n",
      "    Parameters\n",
      "    ----------\n",
      "    levels : sequence of arrays\n",
      "        The unique labels for each level.\n",
      "    codes : sequence of arrays\n",
      "        Integers for each level designating which label at each location.\n",
      "    sortorder : optional int\n",
      "        Level of sortedness (must be lexicographically sorted by that\n",
      "        level).\n",
      "    names : optional sequence of objects\n",
      "        Names for each of the index levels. (name is accepted for compat).\n",
      "    copy : bool, default False\n",
      "        Copy the meta-data.\n",
      "    verify_integrity : bool, default True\n",
      "        Check that the levels/codes are consistent and valid.\n",
      "\n",
      "    Attributes\n",
      "    ----------\n",
      "    names\n",
      "    levels\n",
      "    codes\n",
      "    nlevels\n",
      "    levshape\n",
      "\n",
      "    Methods\n",
      "    -------\n",
      "    from_arrays\n",
      "    from_tuples\n",
      "    from_product\n",
      "    from_frame\n",
      "    set_levels\n",
      "    set_codes\n",
      "    to_frame\n",
      "    to_flat_index\n",
      "    sortlevel\n",
      "    droplevel\n",
      "    swaplevel\n",
      "    reorder_levels\n",
      "    remove_unused_levels\n",
      "    get_locs\n",
      "\n",
      "    See Also\n",
      "    --------\n",
      "    MultiIndex.from_arrays  : Convert list of arrays to MultiIndex.\n",
      "    MultiIndex.from_product : Create a MultiIndex from the cartesian product\n",
      "                              of iterables.\n",
      "    MultiIndex.from_tuples  : Convert list of tuples to a MultiIndex.\n",
      "    MultiIndex.from_frame   : Make a MultiIndex from a DataFrame.\n",
      "    Index : The base pandas Index type.\n",
      "\n",
      "    Notes\n",
      "    -----\n",
      "    See the `user guide\n",
      "    <https://pandas.pydata.org/pandas-docs/stable/user_guide/advanced.html>`__\n",
      "    for more.\n",
      "\n",
      "    Examples\n",
      "    --------\n",
      "    A new ``MultiIndex`` is typically constructed using one of the helper\n",
      "    methods :meth:`MultiIndex.from_arrays`, :meth:`MultiIndex.from_product`\n",
      "    and :meth:`MultiIndex.from_tuples`. For example (using ``.from_arrays``):\n",
      "\n",
      "    >>> arrays = [[1, 1, 2, 2], ['red', 'blue', 'red', 'blue']]\n",
      "    >>> pd.MultiIndex.from_arrays(arrays, names=('number', 'color'))\n",
      "    MultiIndex([(1,  'red'),\n",
      "                (1, 'blue'),\n",
      "                (2,  'red'),\n",
      "                (2, 'blue')],\n",
      "               names=['number', 'color'])\n",
      "\n",
      "    See further examples for how to construct a MultiIndex in the doc strings\n",
      "    of the mentioned helper methods.\n",
      "    \n"
     ]
    }
   ],
   "source": [
    "Parameters_index = '\\n'.join(pd.MultiIndex.__doc__.splitlines()).index('Parameters')\n",
    "print('\\n'.join(pd.MultiIndex.__doc__.splitlines())[:])\n"
   ]
  },
  {
   "cell_type": "markdown",
   "metadata": {},
   "source": [
    "### DataFrames\n",
    "\n",
    "There are multiple ways to construct a DataFrame. For instance we can use a dictionary."
   ]
  },
  {
   "cell_type": "code",
   "execution_count": null,
   "metadata": {},
   "outputs": [
    {
     "data": {
      "text/html": [
       "<div>\n",
       "<style scoped>\n",
       "    .dataframe tbody tr th:only-of-type {\n",
       "        vertical-align: middle;\n",
       "    }\n",
       "\n",
       "    .dataframe tbody tr th {\n",
       "        vertical-align: top;\n",
       "    }\n",
       "\n",
       "    .dataframe thead th {\n",
       "        text-align: right;\n",
       "    }\n",
       "</style>\n",
       "<table border=\"1\" class=\"dataframe\">\n",
       "  <thead>\n",
       "    <tr style=\"text-align: right;\">\n",
       "      <th></th>\n",
       "      <th>Age</th>\n",
       "      <th>Name</th>\n",
       "    </tr>\n",
       "  </thead>\n",
       "  <tbody>\n",
       "    <tr>\n",
       "      <th>0</th>\n",
       "      <td>25</td>\n",
       "      <td>Scott</td>\n",
       "    </tr>\n",
       "    <tr>\n",
       "      <th>1</th>\n",
       "      <td>26</td>\n",
       "      <td>Linda</td>\n",
       "    </tr>\n",
       "  </tbody>\n",
       "</table>\n",
       "</div>"
      ],
      "text/plain": [
       "  Age   Name\n",
       "0  25  Scott\n",
       "1  26  Linda"
      ]
     },
     "execution_count": 12,
     "metadata": {},
     "output_type": "execute_result"
    }
   ],
   "source": [
    "import pandas as pd\n",
    "\n",
    "d = {'Age': ['25', '26'],\n",
    "     'Name': ['Scott', 'Linda']}\n",
    "\n",
    "df = pd.DataFrame(data=d)\n",
    "df\n",
    "\n"
   ]
  },
  {
   "cell_type": "code",
   "execution_count": null,
   "metadata": {},
   "outputs": [
    {
     "data": {
      "text/html": [
       "<div>\n",
       "<style scoped>\n",
       "    .dataframe tbody tr th:only-of-type {\n",
       "        vertical-align: middle;\n",
       "    }\n",
       "\n",
       "    .dataframe tbody tr th {\n",
       "        vertical-align: top;\n",
       "    }\n",
       "\n",
       "    .dataframe thead th {\n",
       "        text-align: right;\n",
       "    }\n",
       "</style>\n",
       "<table border=\"1\" class=\"dataframe\">\n",
       "  <thead>\n",
       "    <tr style=\"text-align: right;\">\n",
       "      <th></th>\n",
       "      <th>Name</th>\n",
       "      <th>Age</th>\n",
       "    </tr>\n",
       "    <tr>\n",
       "      <th>Person</th>\n",
       "      <th></th>\n",
       "      <th></th>\n",
       "    </tr>\n",
       "  </thead>\n",
       "  <tbody>\n",
       "    <tr>\n",
       "      <th>Subject1</th>\n",
       "      <td>Scott</td>\n",
       "      <td>25</td>\n",
       "    </tr>\n",
       "    <tr>\n",
       "      <th>Subject2</th>\n",
       "      <td>Linda</td>\n",
       "      <td>26</td>\n",
       "    </tr>\n",
       "  </tbody>\n",
       "</table>\n",
       "</div>"
      ],
      "text/plain": [
       "           Name Age\n",
       "Person             \n",
       "Subject1  Scott  25\n",
       "Subject2  Linda  26"
      ]
     },
     "execution_count": 13,
     "metadata": {},
     "output_type": "execute_result"
    }
   ],
   "source": [
    "import pandas as pd\n",
    "\n",
    "d = {'Name': ['Scott', 'Linda'],\n",
    "     'Age': ['25', '26']}\n",
    "\n",
    "df = pd.DataFrame(data=d, index=['Subject1', 'Subject2'])\n",
    "df.index.name = 'Person'\n",
    "df\n"
   ]
  },
  {
   "cell_type": "code",
   "execution_count": null,
   "metadata": {},
   "outputs": [
    {
     "data": {
      "text/html": [
       "<div>\n",
       "<style scoped>\n",
       "    .dataframe tbody tr th:only-of-type {\n",
       "        vertical-align: middle;\n",
       "    }\n",
       "\n",
       "    .dataframe tbody tr th {\n",
       "        vertical-align: top;\n",
       "    }\n",
       "\n",
       "    .dataframe thead th {\n",
       "        text-align: right;\n",
       "    }\n",
       "</style>\n",
       "<table border=\"1\" class=\"dataframe\">\n",
       "  <thead>\n",
       "    <tr style=\"text-align: right;\">\n",
       "      <th></th>\n",
       "      <th>Medical Claim</th>\n",
       "      <th>Prediction</th>\n",
       "    </tr>\n",
       "    <tr>\n",
       "      <th>Bar</th>\n",
       "      <th></th>\n",
       "      <th></th>\n",
       "    </tr>\n",
       "  </thead>\n",
       "  <tbody>\n",
       "    <tr>\n",
       "      <th>Low</th>\n",
       "      <td>Easy to call sick</td>\n",
       "      <td>Easy to predict True</td>\n",
       "    </tr>\n",
       "    <tr>\n",
       "      <th>High</th>\n",
       "      <td>Hard to call sick</td>\n",
       "      <td>Hard to predict False</td>\n",
       "    </tr>\n",
       "  </tbody>\n",
       "</table>\n",
       "</div>"
      ],
      "text/plain": [
       "          Medical Claim             Prediction\n",
       "Bar                                           \n",
       "Low   Easy to call sick   Easy to predict True\n",
       "High  Hard to call sick  Hard to predict False"
      ]
     },
     "execution_count": 8,
     "metadata": {},
     "output_type": "execute_result"
    }
   ],
   "source": [
    "import pandas as pd\n",
    "\n",
    "data = {'Medical Claim': ['Easy to call sick', 'Hard to call sick'],\n",
    "        'Prediction': ['Easy to predict True', 'Hard to predict False']}\n",
    "\n",
    "df = pd.DataFrame(data=data, index=['Low', 'High'])\n",
    "df.index.name = 'Bar'\n",
    "df"
   ]
  },
  {
   "cell_type": "code",
   "execution_count": null,
   "metadata": {},
   "outputs": [
    {
     "name": "stdout",
     "output_type": "stream",
     "text": [
      "Examples\n",
      "    --------\n",
      "    Constructing DataFrame from a dictionary.\n",
      "\n",
      "    >>> d = {'col1': [1, 2], 'col2': [3, 4]}\n",
      "    >>> df = pd.DataFrame(data=d)\n",
      "    >>> df\n",
      "       col1  col2\n",
      "    0     1     3\n",
      "    1     2     4\n",
      "\n",
      "    Notice that the inferred dtype is int64.\n",
      "\n",
      "    >>> df.dtypes\n",
      "    col1    int64\n",
      "    col2    int64\n",
      "    dtype: object\n",
      "\n",
      "    To enforce a single dtype:\n",
      "\n",
      "    >>> df = pd.DataFrame(data=d, dtype=np.int8)\n",
      "    >>> df.dtypes\n",
      "    col1    int8\n",
      "    col2    int8\n",
      "    dtype: object\n",
      "\n",
      "    Constructing DataFrame from numpy ndarray:\n",
      "\n",
      "    >>> df2 = pd.DataFrame(np.array([[1, 2, 3], [4, 5, 6], [7, 8, 9]]),\n",
      "    ...                    columns=['a', 'b', 'c'])\n",
      "    >>> df2\n",
      "       a  b  c\n",
      "    0  1  2  3\n",
      "    1  4  5  6\n",
      "    2  7  8  9\n",
      "\n",
      "    Constructing DataFrame from a numpy ndarray that has labeled columns:\n",
      "\n",
      "    >>> data = np.array([(1, 2, 3), (4, 5, 6), (7, 8, 9)],\n",
      "    ...                 dtype=[(\"a\", \"i4\"), (\"b\", \"i4\"), (\"c\", \"i4\")])\n",
      "    >>> df3 = pd.DataFrame(data, columns=['c', 'a'])\n",
      "    ...\n",
      "    >>> df3\n",
      "       c  a\n",
      "    0  3  1\n",
      "    1  6  4\n",
      "    2  9  7\n",
      "\n",
      "    Constructing DataFrame from dataclass:\n",
      "\n",
      "    >>> from dataclasses import make_dataclass\n",
      "    >>> Point = make_dataclass(\"Point\", [(\"x\", int), (\"y\", int)])\n",
      "    >>> pd.DataFrame([Point(0, 0), Point(0, 3), Point(2, 3)])\n",
      "       x  y\n",
      "    0  0  0\n",
      "    1  0  3\n",
      "    2  2  3\n",
      "    \n"
     ]
    }
   ],
   "source": [
    "Examples_index = '\\n'.join(pd.DataFrame.__doc__.splitlines()).index('Examples')\n",
    "print('\\n'.join(pd.DataFrame.__doc__.splitlines())[Examples_index:])\n"
   ]
  },
  {
   "cell_type": "markdown",
   "metadata": {},
   "source": [
    " \n",
    "\n",
    "Each row in a confusion matrix represents an actual class, while each column represents a predicted class.\n",
    "\n",
    "In the above matrix, the number in the first row and first column indicates that the classifier correctly identified 53,124 images as non-5s. These are also known as *true negatives*. The remaining 1,455 images in the first row and second column are known as *false positives* and represent images the classifier incorrectly categorized as 5s, which indeed were not.\n",
    "\n",
    "Each row in a confusion matrix represents an *actual class*, while each column represents a *predicted class*. \n",
    "In the above matrix, the number in the first row and first column indicates that the classifier correctly identified 53,124 images as non-5s. These are also known as *true negatives*. The remaining 1,455 images in the first row and second column are known as *false positives* and represent images the classifier incorrectly categorized as 5s, which indeed were not. \n",
    "\n",
    "Next, in the second row, the number in the first column (949) indicates the images that the classifier incorrectly identified as non-5s. In other words, the images were fives, but the classifier said they were not. These are known as *false negatives*. Finally, the remaining 4,472 images in the bottom right corner are *true positives*, the fives that the classifier identified correctly. A perfect classifier would have only true positives and true negatives.\n",
    "\n",
    "Using a confusion matrix, we can compute additional metrics, one of which is the *precision* or the accuracy of the positive predictions. Let's take a look at a few more simple examples."
   ]
  },
  {
   "cell_type": "code",
   "execution_count": null,
   "metadata": {},
   "outputs": [
    {
     "data": {
      "text/plain": [
       "array([[2, 0, 0],\n",
       "       [0, 0, 1],\n",
       "       [1, 0, 2]], dtype=int64)"
      ]
     },
     "execution_count": 5,
     "metadata": {},
     "output_type": "execute_result"
    }
   ],
   "source": [
    "from sklearn.metrics import confusion_matrix\n",
    "y_true = [2, 0, 2, 2, 0, 1]\n",
    "y_pred = [0, 0, 2, 2, 0, 2]\n",
    "confusion_matrix(y_true, y_pred)"
   ]
  },
  {
   "cell_type": "code",
   "execution_count": null,
   "metadata": {},
   "outputs": [
    {
     "data": {
      "text/plain": [
       "array([[2, 0, 0],\n",
       "       [0, 0, 1],\n",
       "       [1, 0, 2]], dtype=int64)"
      ]
     },
     "execution_count": 6,
     "metadata": {},
     "output_type": "execute_result"
    }
   ],
   "source": [
    "y_true = [\"cat\", \"ant\", \"cat\", \"cat\", \"ant\", \"bird\"]\n",
    "y_pred = [\"ant\", \"ant\", \"cat\", \"cat\", \"ant\", \"cat\"]\n",
    "confusion_matrix(y_true, y_pred, labels=[\"ant\", \"bird\", \"cat\"])"
   ]
  },
  {
   "cell_type": "markdown",
   "metadata": {},
   "source": [
    "In the case of a binary classifier, we can extract the true positives, false positives, true negatives, and false negatives."
   ]
  },
  {
   "cell_type": "code",
   "execution_count": null,
   "metadata": {},
   "outputs": [
    {
     "name": "stdout",
     "output_type": "stream",
     "text": [
      "['accuracy', 'adjusted_mutual_info_score', 'adjusted_rand_score',\n",
      "'average_precision', 'balanced_accuracy', 'completeness_score',\n",
      "'explained_variance', 'f1', 'f1_macro', 'f1_micro', 'f1_samples',\n",
      "'f1_weighted', 'fowlkes_mallows_score', 'homogeneity_score',\n",
      "'jaccard', 'jaccard_macro', 'jaccard_micro', 'jaccard_samples',\n",
      "'jaccard_weighted', 'matthews_corrcoef', 'max_error',\n",
      "'mutual_info_score', 'neg_brier_score', 'neg_log_loss',\n",
      "'neg_mean_absolute_error', 'neg_mean_absolute_percentage_error',\n",
      "'neg_mean_gamma_deviance', 'neg_mean_poisson_deviance',\n",
      "'neg_mean_squared_error', 'neg_mean_squared_log_error',\n",
      "'neg_median_absolute_error', 'neg_root_mean_squared_error',\n",
      "'normalized_mutual_info_score', 'precision', 'precision_macro',\n",
      "'precision_micro', 'precision_samples', 'precision_weighted', 'r2',\n",
      "'rand_score', 'recall', 'recall_macro', 'recall_micro',\n",
      "'recall_samples', 'recall_weighted', 'roc_auc', 'roc_auc_ovo',\n",
      "'roc_auc_ovo_weighted', 'roc_auc_ovr', 'roc_auc_ovr_weighted',\n",
      "'top_k_accuracy', 'v_measure_score']\n"
     ]
    }
   ],
   "source": [
    "from sklearn import metrics\n",
    "import textwrap\n",
    "print(textwrap.fill(str(sorted(metrics.SCORERS.keys())), width=70))"
   ]
  },
  {
   "cell_type": "markdown",
   "metadata": {},
   "source": [
    "Not all these metrics are designed for classifiers. How can we identify the scorer used for a particular classifier, say, *k*-NN? You can see the whole output with `help(knn.score).` However, let's trim it down a bit."
   ]
  },
  {
   "cell_type": "code",
   "execution_count": null,
   "metadata": {},
   "outputs": [
    {
     "name": "stdout",
     "output_type": "stream",
     "text": [
      "Examples\n",
      "    --------\n",
      "    It is equivalent to ``reshape(-1, order=order)``.\n",
      "\n",
      "    >>> x = np.array([[1, 2, 3], [4, 5, 6]])\n",
      "    >>> np.ravel(x)\n",
      "    array([1, 2, 3, 4, 5, 6])\n",
      "\n",
      "    >>> x.reshape(-1)\n",
      "    array([1, 2, 3, 4, 5, 6])\n",
      "\n",
      "    >>> np.ravel(x, order='F')\n",
      "    array([1, 4, 2, 5, 3, 6])\n",
      "\n",
      "    When ``order`` is 'A', it will preserve the array's 'C' or 'F' ordering:\n",
      "\n",
      "    >>> np.ravel(x.T)\n",
      "    array([1, 4, 2, 5, 3, 6])\n",
      "    >>> np.ravel(x.T, order='A')\n",
      "    array([1, 2, 3, 4, 5, 6])\n",
      "\n",
      "    When ``order`` is 'K', it will preserve orderings that are neither 'C'\n",
      "    nor 'F', but won't reverse axes:\n",
      "\n",
      "    >>> a = np.arange(3)[::-1]; a\n",
      "    array([2, 1, 0])\n",
      "    >>> a.ravel(order='C')\n",
      "    array([2, 1, 0])\n",
      "    >>> a.ravel(order='K')\n",
      "    array([2, 1, 0])\n",
      "\n",
      "    >>> a = np.arange(12).reshape(2,3,2).swapaxes(1,2); a\n",
      "    array([[[ 0,  2,  4],\n",
      "            [ 1,  3,  5]],\n",
      "           [[ 6,  8, 10],\n",
      "            [ 7,  9, 11]]])\n",
      "    >>> a.ravel(order='C')\n",
      "    array([ 0,  2,  4,  1,  3,  5,  6,  8, 10,  7,  9, 11])\n",
      "    >>> a.ravel(order='K')\n",
      "    array([ 0,  1,  2,  3,  4,  5,  6,  7,  8,  9, 10, 11])\n",
      "\n",
      "    \n"
     ]
    }
   ],
   "source": [
    "from sklearn.neighbors import KNeighborsClassifier\n",
    "import numpy as np\n",
    "\n",
    "knn = KNeighborsClassifier()\n",
    "\n",
    "#help(knn.score) # verbose, but complete\n",
    "\n",
    "#print(knn.score.__doc__.splitlines()[0])\n",
    "#print('\\n--and--\\n')\n",
    "examples_index = \"\\n\".join(np.ravel.__doc__.splitlines()).index('Examples')\n",
    "print(\"\\n\".join(np.ravel.__doc__.splitlines())[examples_index:])\n",
    "search_word_index = '\\n'.join(np.ravel.__doc__.splitlines()).index('search_word')\n",
    "print('\\n'.join(np.ravel.__doc__.splitlines())[search_word_index:])"
   ]
  },
  {
   "cell_type": "code",
   "execution_count": null,
   "metadata": {},
   "outputs": [
    {
     "data": {
      "text/plain": [
       "(0, 2, 1, 1)"
      ]
     },
     "execution_count": 7,
     "metadata": {},
     "output_type": "execute_result"
    }
   ],
   "source": [
    "tn, fp, fn, tp = confusion_matrix([0, 1, 0, 1], [1, 1, 1, 0]).ravel()\n",
    "(tn, fp, fn, tp)"
   ]
  },
  {
   "cell_type": "markdown",
   "metadata": {},
   "source": [
    "Using the 5 and non-5 classifier, we get the following results."
   ]
  },
  {
   "cell_type": "code",
   "execution_count": null,
   "metadata": {},
   "outputs": [
    {
     "data": {
      "text/plain": [
       "(53124, 1455, 949, 4472)"
      ]
     },
     "execution_count": 8,
     "metadata": {},
     "output_type": "execute_result"
    }
   ],
   "source": [
    "tn, fp, fn, tp = confusion_matrix(y_train_5, y_train_pred).ravel()\n",
    "(tn, fp, fn, tp)"
   ]
  },
  {
   "cell_type": "markdown",
   "metadata": {},
   "source": [
    "## `ravel()`\n",
    "\n",
    "---"
   ]
  },
  {
   "cell_type": "markdown",
   "metadata": {},
   "source": [
    "Let's look at the confusion matrix one more time."
   ]
  },
  {
   "cell_type": "code",
   "execution_count": null,
   "metadata": {},
   "outputs": [
    {
     "data": {
      "text/plain": [
       "array([[53124,  1455],\n",
       "       [  949,  4472]], dtype=int64)"
      ]
     },
     "execution_count": 9,
     "metadata": {},
     "output_type": "execute_result"
    }
   ],
   "source": [
    "confusion_matrix(y_train_5, y_train_pred)"
   ]
  },
  {
   "cell_type": "markdown",
   "metadata": {},
   "source": [
    "We can use the $\\text{TN}$, $\\text{FP}$, $\\text{FN}$, and $\\text{TP}$ to calculate additional metrics. For instance, **precison** represents the accuracy of the positive predictions and is calculated via the following equation:\n",
    "\n",
    "$$ \\text{precision} = \\frac{TP}{TP + FP} $$\n"
   ]
  },
  {
   "cell_type": "markdown",
   "metadata": {},
   "source": [
    "Let's calculate the precision."
   ]
  },
  {
   "cell_type": "code",
   "execution_count": null,
   "metadata": {},
   "outputs": [
    {
     "name": "stdout",
     "output_type": "stream",
     "text": [
      "Precision: 0.75\n"
     ]
    }
   ],
   "source": [
    "precision = tp / (tp + fp)\n",
    "print(f'Precision: {precision:.2f}')"
   ]
  },
  {
   "cell_type": "markdown",
   "metadata": {},
   "source": [
    "`numpy.ravel()` "
   ]
  },
  {
   "cell_type": "markdown",
   "metadata": {},
   "source": [
    "\n",
    "## Precision\n",
    "\n",
    "---\n",
    "\n",
    "\n",
    "## Recall\n",
    "\n",
    "---\n",
    "\n",
    "$recall = \\frac{TP}{TP + FN}$ \n"
   ]
  }
 ],
 "metadata": {
  "kernelspec": {
   "display_name": "Python 3.9.4 64-bit ('3.9.4')",
   "language": "python",
   "name": "python3"
  },
  "language_info": {
   "codemirror_mode": {
    "name": "ipython",
    "version": 3
   },
   "file_extension": ".py",
   "mimetype": "text/x-python",
   "name": "python",
   "nbconvert_exporter": "python",
   "pygments_lexer": "ipython3",
   "version": "3.9.4"
  },
  "orig_nbformat": 4,
  "vscode": {
   "interpreter": {
    "hash": "21e839830e2a1772f3ecae647fe1cea0ea483c7b60871b2218ebc06f31de5a91"
   }
  }
 },
 "nbformat": 4,
 "nbformat_minor": 2
}
